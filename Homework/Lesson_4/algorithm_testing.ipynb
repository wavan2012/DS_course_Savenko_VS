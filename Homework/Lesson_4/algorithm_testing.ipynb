{
 "cells": [
  {
   "cell_type": "code",
   "execution_count": 30,
   "metadata": {
    "collapsed": true,
    "ExecuteTime": {
     "start_time": "2023-05-14T20:25:21.481952Z",
     "end_time": "2023-05-14T20:25:21.543686Z"
    }
   },
   "outputs": [],
   "source": [
    "list_of_numbers1 = [5, 4, 8, 3, 7, 6, 1, 9, 2, 0]\n",
    "list_of_numbers2 = [1, 2, 3, 4]\n",
    "list_of_numbers3 = [4, 9, 11, 12]"
   ]
  },
  {
   "cell_type": "code",
   "execution_count": 31,
   "outputs": [
    {
     "name": "stdout",
     "output_type": "stream",
     "text": [
      "[0, 1, 2, 3, 4, 5, 6, 7, 8, 9]\n"
     ]
    }
   ],
   "source": [
    "def fun1(prob_list: list) -> list:\n",
    "    \"\"\"\n",
    "    сортировка пузырьком\n",
    "    \"\"\"\n",
    "    for j in range(len(prob_list)):\n",
    "       for i in range(len(prob_list)-j-1):\n",
    "           if prob_list[i] > prob_list[i+1]:\n",
    "               a = prob_list[i]\n",
    "               prob_list[i] = prob_list[i+1]\n",
    "               prob_list[i+1] = a\n",
    "    return prob_list\n",
    "print(fun1(list_of_numbers1))"
   ],
   "metadata": {
    "collapsed": false,
    "ExecuteTime": {
     "start_time": "2023-05-14T20:25:21.506887Z",
     "end_time": "2023-05-14T20:25:21.545682Z"
    }
   }
  },
  {
   "cell_type": "code",
   "execution_count": 35,
   "outputs": [
    {
     "name": "stdout",
     "output_type": "stream",
     "text": [
      "[1, 3]\n",
      "[1, 3]\n"
     ]
    }
   ],
   "source": [
    "def fun2(prob_list: list) -> list:\n",
    "    \"\"\"\n",
    "    возвращает лист только с нечетными значениями\n",
    "    :param prob_list: list\n",
    "    :return: list\n",
    "    \"\"\"\n",
    "    prob_list2 = []\n",
    "    for i in range(len(prob_list)):\n",
    "        if prob_list[i] % 2 != 0:\n",
    "            prob_list2.append(prob_list[i])\n",
    "    prob_list = prob_list2\n",
    "    return prob_list\n",
    "print(fun2(list_of_numbers2))"
   ],
   "metadata": {
    "collapsed": false,
    "ExecuteTime": {
     "start_time": "2023-05-14T22:04:00.451067Z",
     "end_time": "2023-05-14T22:04:00.507612Z"
    }
   }
  },
  {
   "cell_type": "code",
   "execution_count": 33,
   "outputs": [
    {
     "name": "stdout",
     "output_type": "stream",
     "text": [
      "[9, 12]\n"
     ]
    }
   ],
   "source": [
    "def fun3(prob_list: list) -> list:\n",
    "    \"\"\"\n",
    "   возвращает лист только с нечетными индексами\n",
    "   :param prob_list: list\n",
    "   :return: list\n",
    "   \"\"\"\n",
    "    prob_list2 = []\n",
    "    for i in range(len(prob_list)):\n",
    "        if i % 2 != 0:\n",
    "            prob_list2.append(prob_list[i])\n",
    "    prob_list = prob_list2\n",
    "    return prob_list\n",
    "print(fun3(list_of_numbers3))"
   ],
   "metadata": {
    "collapsed": false,
    "ExecuteTime": {
     "start_time": "2023-05-14T20:25:21.535815Z",
     "end_time": "2023-05-14T20:25:21.555658Z"
    }
   }
  },
  {
   "cell_type": "code",
   "execution_count": 33,
   "outputs": [],
   "source": [
    "def lst_in_str(prob_list: list) -> str:\n",
    "    prob_str = \"[\" + prob_list[0]\n",
    "    for i in range(1,len(prob_list)):\n",
    "        prob_str += ', ' +prob_list[i]\n",
    "    return prob_str"
   ],
   "metadata": {
    "collapsed": false,
    "ExecuteTime": {
     "start_time": "2023-05-14T20:25:21.553665Z",
     "end_time": "2023-05-14T20:25:21.566659Z"
    }
   }
  }
 ],
 "metadata": {
  "kernelspec": {
   "display_name": "Python 3",
   "language": "python",
   "name": "python3"
  },
  "language_info": {
   "codemirror_mode": {
    "name": "ipython",
    "version": 2
   },
   "file_extension": ".py",
   "mimetype": "text/x-python",
   "name": "python",
   "nbconvert_exporter": "python",
   "pygments_lexer": "ipython2",
   "version": "2.7.6"
  }
 },
 "nbformat": 4,
 "nbformat_minor": 0
}
