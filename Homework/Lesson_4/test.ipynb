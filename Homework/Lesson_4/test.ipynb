{
 "cells": [
  {
   "cell_type": "code",
   "execution_count": 4,
   "metadata": {
    "collapsed": true,
    "ExecuteTime": {
     "start_time": "2023-05-14T16:08:57.268363Z",
     "end_time": "2023-05-14T16:08:58.203998Z"
    }
   },
   "outputs": [],
   "source": [
    "a = 10\n",
    "b = 5"
   ]
  },
  {
   "cell_type": "code",
   "execution_count": 5,
   "outputs": [
    {
     "name": "stdout",
     "output_type": "stream",
     "text": [
      "True\n"
     ]
    }
   ],
   "source": [
    "if a > b:\n",
    "    print(\"True\")"
   ],
   "metadata": {
    "collapsed": false,
    "ExecuteTime": {
     "start_time": "2023-05-14T16:08:57.306270Z",
     "end_time": "2023-05-14T16:08:58.204994Z"
    }
   }
  },
  {
   "cell_type": "code",
   "execution_count": 6,
   "outputs": [
    {
     "name": "stdout",
     "output_type": "stream",
     "text": [
      "False\n"
     ]
    }
   ],
   "source": [
    "if a < b:\n",
    "    print(\"True\")\n",
    "else:\n",
    "    print(\"False\")"
   ],
   "metadata": {
    "collapsed": false,
    "ExecuteTime": {
     "start_time": "2023-05-14T16:08:57.322240Z",
     "end_time": "2023-05-14T16:08:58.255869Z"
    }
   }
  },
  {
   "cell_type": "code",
   "execution_count": 7,
   "outputs": [
    {
     "name": "stdout",
     "output_type": "stream",
     "text": [
      "False\n"
     ]
    }
   ],
   "source": [
    "if (10 + 5) < 5:\n",
    "    print(\"True\")\n",
    "else:\n",
    "    print(\"False\")"
   ],
   "metadata": {
    "collapsed": false,
    "ExecuteTime": {
     "start_time": "2023-05-14T16:08:57.349144Z",
     "end_time": "2023-05-14T16:08:58.258863Z"
    }
   }
  },
  {
   "cell_type": "code",
   "execution_count": 8,
   "outputs": [],
   "source": [
    "a = 10\n",
    "\n",
    "# 1 5 10"
   ],
   "metadata": {
    "collapsed": false,
    "ExecuteTime": {
     "start_time": "2023-05-14T16:08:57.375079Z",
     "end_time": "2023-05-14T16:08:58.270818Z"
    }
   }
  },
  {
   "cell_type": "code",
   "execution_count": 9,
   "outputs": [
    {
     "name": "stdout",
     "output_type": "stream",
     "text": [
      "10\n"
     ]
    }
   ],
   "source": [
    "if a == 1:\n",
    "    print(\"1\")\n",
    "elif a == 5:\n",
    "    print(5)\n",
    "elif a == 10:\n",
    "    print(10)\n",
    "else:\n",
    "    print(\"Error\")"
   ],
   "metadata": {
    "collapsed": false,
    "ExecuteTime": {
     "start_time": "2023-05-14T16:08:57.393027Z",
     "end_time": "2023-05-14T16:08:58.272818Z"
    }
   }
  },
  {
   "cell_type": "code",
   "execution_count": 10,
   "outputs": [],
   "source": [
    "if a == 1 and b == 5:\n",
    "    print(\"OK\")"
   ],
   "metadata": {
    "collapsed": false,
    "ExecuteTime": {
     "start_time": "2023-05-14T16:08:57.408986Z",
     "end_time": "2023-05-14T16:08:58.274814Z"
    }
   }
  },
  {
   "cell_type": "code",
   "execution_count": 11,
   "outputs": [
    {
     "data": {
      "text/plain": "0"
     },
     "execution_count": 11,
     "metadata": {},
     "output_type": "execute_result"
    }
   ],
   "source": [
    "b = 2 if a == 1 else 0\n",
    "b"
   ],
   "metadata": {
    "collapsed": false,
    "ExecuteTime": {
     "start_time": "2023-05-14T16:08:57.444899Z",
     "end_time": "2023-05-14T16:08:58.294756Z"
    }
   }
  },
  {
   "cell_type": "code",
   "execution_count": 12,
   "outputs": [],
   "source": [
    "a = 0\n",
    "b = 10"
   ],
   "metadata": {
    "collapsed": false,
    "ExecuteTime": {
     "start_time": "2023-05-14T16:08:57.466837Z",
     "end_time": "2023-05-14T16:08:58.295753Z"
    }
   }
  },
  {
   "cell_type": "code",
   "execution_count": 13,
   "outputs": [
    {
     "name": "stdout",
     "output_type": "stream",
     "text": [
      "0\n",
      "1\n",
      "2\n",
      "3\n",
      "4\n",
      "5\n",
      "6\n",
      "7\n",
      "8\n",
      "9\n"
     ]
    }
   ],
   "source": [
    "for i in range(0, 10):\n",
    "    print(i)"
   ],
   "metadata": {
    "collapsed": false,
    "ExecuteTime": {
     "start_time": "2023-05-14T16:08:57.487780Z",
     "end_time": "2023-05-14T16:08:58.296751Z"
    }
   }
  },
  {
   "cell_type": "code",
   "execution_count": 14,
   "outputs": [],
   "source": [
    "test_list = [1, 2, 3, 4, 5, 6, 7]"
   ],
   "metadata": {
    "collapsed": false,
    "ExecuteTime": {
     "start_time": "2023-05-14T16:08:57.513710Z",
     "end_time": "2023-05-14T16:08:58.297748Z"
    }
   }
  },
  {
   "cell_type": "code",
   "execution_count": 15,
   "outputs": [
    {
     "data": {
      "text/plain": "4"
     },
     "execution_count": 15,
     "metadata": {},
     "output_type": "execute_result"
    }
   ],
   "source": [
    "test_list[3]"
   ],
   "metadata": {
    "collapsed": false,
    "ExecuteTime": {
     "start_time": "2023-05-14T16:08:57.532661Z",
     "end_time": "2023-05-14T16:08:58.298753Z"
    }
   }
  },
  {
   "cell_type": "code",
   "execution_count": 16,
   "outputs": [
    {
     "data": {
      "text/plain": "[2, 3, 4, 5, 6, 7, 8]"
     },
     "execution_count": 16,
     "metadata": {},
     "output_type": "execute_result"
    }
   ],
   "source": [
    "for i in range(0, len(test_list)):\n",
    "    test_list[i] += 1\n",
    "\n",
    "test_list"
   ],
   "metadata": {
    "collapsed": false,
    "ExecuteTime": {
     "start_time": "2023-05-14T16:08:57.550612Z",
     "end_time": "2023-05-14T16:08:58.299743Z"
    }
   }
  },
  {
   "cell_type": "code",
   "execution_count": 17,
   "outputs": [
    {
     "data": {
      "text/plain": "[3, 4, 5, 6, 7, 8, 9]"
     },
     "execution_count": 17,
     "metadata": {},
     "output_type": "execute_result"
    }
   ],
   "source": [
    "new_list = []\n",
    "\n",
    "for el in test_list:\n",
    "    new_list.append(el + 1)\n",
    "\n",
    "new_list"
   ],
   "metadata": {
    "collapsed": false,
    "ExecuteTime": {
     "start_time": "2023-05-14T16:08:57.579535Z",
     "end_time": "2023-05-14T16:08:58.300740Z"
    }
   }
  },
  {
   "cell_type": "code",
   "execution_count": 18,
   "outputs": [
    {
     "name": "stdout",
     "output_type": "stream",
     "text": [
      "0. 3\n",
      "1. 4\n",
      "2. 5\n",
      "3. 6\n",
      "4. 7\n",
      "5. 8\n",
      "6. 9\n"
     ]
    }
   ],
   "source": [
    "for i, el in enumerate(new_list):\n",
    "    print(f\"{i}. {el}\")\n",
    "    new_list[i] = el + 1"
   ],
   "metadata": {
    "collapsed": false,
    "ExecuteTime": {
     "start_time": "2023-05-14T16:08:57.607466Z",
     "end_time": "2023-05-14T16:08:58.300740Z"
    }
   }
  },
  {
   "cell_type": "code",
   "execution_count": 19,
   "outputs": [
    {
     "data": {
      "text/plain": "[4, 5, 6, 7, 8, 9, 10]"
     },
     "execution_count": 19,
     "metadata": {},
     "output_type": "execute_result"
    }
   ],
   "source": [
    "new_list"
   ],
   "metadata": {
    "collapsed": false,
    "ExecuteTime": {
     "start_time": "2023-05-14T16:08:57.625411Z",
     "end_time": "2023-05-14T16:08:58.301737Z"
    }
   }
  },
  {
   "cell_type": "code",
   "execution_count": 20,
   "outputs": [
    {
     "data": {
      "text/plain": "[3, 4, 5, 6, 7, 8, 9]"
     },
     "execution_count": 20,
     "metadata": {},
     "output_type": "execute_result"
    }
   ],
   "source": [
    "new_list = [el + 1 for el in test_list]\n",
    "\n",
    "new_list"
   ],
   "metadata": {
    "collapsed": false,
    "ExecuteTime": {
     "start_time": "2023-05-14T16:08:57.651343Z",
     "end_time": "2023-05-14T16:08:58.302739Z"
    }
   }
  },
  {
   "cell_type": "code",
   "execution_count": 21,
   "outputs": [
    {
     "name": "stdout",
     "output_type": "stream",
     "text": [
      "0\n",
      "Done\n"
     ]
    }
   ],
   "source": [
    "t = 0\n",
    "\n",
    "while t == 0:\n",
    "    print(t)\n",
    "    break\n",
    "\n",
    "print(\"Done\")"
   ],
   "metadata": {
    "collapsed": false,
    "ExecuteTime": {
     "start_time": "2023-05-14T16:08:57.672288Z",
     "end_time": "2023-05-14T16:08:58.306737Z"
    }
   }
  },
  {
   "cell_type": "code",
   "execution_count": 22,
   "outputs": [
    {
     "name": "stdout",
     "output_type": "stream",
     "text": [
      "Done\n",
      "OK\n"
     ]
    }
   ],
   "source": [
    "for i in range(0, 5000000000):\n",
    "    if i == 100:\n",
    "        print(\"Done\")\n",
    "        break\n",
    "\n",
    "print(\"OK\")"
   ],
   "metadata": {
    "collapsed": false,
    "ExecuteTime": {
     "start_time": "2023-05-14T16:08:57.689247Z",
     "end_time": "2023-05-14T16:08:58.330232Z"
    }
   }
  },
  {
   "cell_type": "code",
   "execution_count": 23,
   "outputs": [
    {
     "name": "stdout",
     "output_type": "stream",
     "text": [
      "i: 0\n",
      "i: 0\n",
      "j: 11\n",
      "i: 1\n",
      "i: 1\n",
      "j: 11\n",
      "i: 2\n",
      "i: 2\n",
      "j: 11\n",
      "i: 3\n",
      "i: 3\n",
      "j: 11\n",
      "i: 4\n",
      "i: 4\n",
      "j: 11\n",
      "i: 5\n",
      "i: 5\n",
      "j: 11\n",
      "i: 6\n",
      "i: 6\n",
      "j: 11\n",
      "i: 7\n",
      "i: 7\n",
      "j: 11\n",
      "i: 8\n",
      "i: 8\n",
      "j: 11\n",
      "i: 9\n",
      "i: 9\n",
      "j: 11\n"
     ]
    }
   ],
   "source": [
    "for i in range(0, 10):\n",
    "    for j in range(10, 100):\n",
    "        print(f\"i: {i}\")\n",
    "        if j == 11:\n",
    "            print(f\"j: {j}\")\n",
    "            break"
   ],
   "metadata": {
    "collapsed": false,
    "ExecuteTime": {
     "start_time": "2023-05-14T16:08:57.721158Z",
     "end_time": "2023-05-14T16:08:58.330232Z"
    }
   }
  },
  {
   "cell_type": "code",
   "execution_count": 24,
   "outputs": [],
   "source": [
    "a = [\n",
    "    [1, 2, 3],\n",
    "    [4, 5, 6],\n",
    "    [7, 8, 9]\n",
    "]"
   ],
   "metadata": {
    "collapsed": false,
    "ExecuteTime": {
     "start_time": "2023-05-14T16:08:57.739109Z",
     "end_time": "2023-05-14T16:08:58.331229Z"
    }
   }
  },
  {
   "cell_type": "code",
   "execution_count": 25,
   "outputs": [
    {
     "name": "stdout",
     "output_type": "stream",
     "text": [
      "[1, 2, 3]\n",
      "[4, 5, 6]\n",
      "[7, 8, 9]\n"
     ]
    }
   ],
   "source": [
    "for el in a:\n",
    "    print(el)"
   ],
   "metadata": {
    "collapsed": false,
    "ExecuteTime": {
     "start_time": "2023-05-14T16:08:57.769029Z",
     "end_time": "2023-05-14T16:08:58.332226Z"
    }
   }
  },
  {
   "cell_type": "code",
   "execution_count": 26,
   "outputs": [
    {
     "name": "stdout",
     "output_type": "stream",
     "text": [
      "1\n",
      "2\n",
      "3\n",
      "4\n",
      "5\n",
      "6\n",
      "7\n",
      "8\n",
      "9\n"
     ]
    }
   ],
   "source": [
    "for el in a:\n",
    "    for sub_el in el:\n",
    "        print(sub_el)"
   ],
   "metadata": {
    "collapsed": false,
    "ExecuteTime": {
     "start_time": "2023-05-14T16:08:57.794959Z",
     "end_time": "2023-05-14T16:08:58.333223Z"
    }
   }
  },
  {
   "cell_type": "code",
   "execution_count": 27,
   "outputs": [
    {
     "data": {
      "text/plain": "[[2, 3, 4], [5, 6, 7], [8, 9, 10]]"
     },
     "execution_count": 27,
     "metadata": {},
     "output_type": "execute_result"
    }
   ],
   "source": [
    "for i, el in enumerate(a):\n",
    "    for j, sub_el in enumerate(el):\n",
    "        a[i][j] += 1\n",
    "\n",
    "a"
   ],
   "metadata": {
    "collapsed": false,
    "ExecuteTime": {
     "start_time": "2023-05-14T16:08:57.815902Z",
     "end_time": "2023-05-14T16:08:58.333223Z"
    }
   }
  },
  {
   "cell_type": "code",
   "execution_count": 28,
   "outputs": [
    {
     "data": {
      "text/plain": "3"
     },
     "execution_count": 28,
     "metadata": {},
     "output_type": "execute_result"
    }
   ],
   "source": [
    "a[0][1]"
   ],
   "metadata": {
    "collapsed": false,
    "ExecuteTime": {
     "start_time": "2023-05-14T16:08:57.844344Z",
     "end_time": "2023-05-14T16:08:58.333223Z"
    }
   }
  },
  {
   "cell_type": "code",
   "execution_count": 29,
   "outputs": [],
   "source": [
    "def foo():\n",
    "    print(\"Test\")\n",
    "    print(\"Some logs\")"
   ],
   "metadata": {
    "collapsed": false,
    "ExecuteTime": {
     "start_time": "2023-05-14T16:08:57.876261Z",
     "end_time": "2023-05-14T16:08:58.334221Z"
    }
   }
  },
  {
   "cell_type": "code",
   "execution_count": 30,
   "outputs": [
    {
     "name": "stdout",
     "output_type": "stream",
     "text": [
      "Test\n",
      "Some logs\n"
     ]
    }
   ],
   "source": [
    "foo()"
   ],
   "metadata": {
    "collapsed": false,
    "ExecuteTime": {
     "start_time": "2023-05-14T16:08:57.891221Z",
     "end_time": "2023-05-14T16:08:58.337214Z"
    }
   }
  },
  {
   "cell_type": "code",
   "execution_count": 31,
   "outputs": [],
   "source": [
    "def foo(x: int) -> float:\n",
    "    \"\"\"\n",
    "    Some calculation.\n",
    "\n",
    "    :param x: int - input value\n",
    "    :return: float\n",
    "    \"\"\"\n",
    "    c = 10 * x + 2\n",
    "    c /= 2\n",
    "    return c"
   ],
   "metadata": {
    "collapsed": false,
    "ExecuteTime": {
     "start_time": "2023-05-14T16:08:57.934105Z",
     "end_time": "2023-05-14T16:08:58.338210Z"
    }
   }
  },
  {
   "cell_type": "code",
   "execution_count": 32,
   "outputs": [
    {
     "data": {
      "text/plain": "51.0"
     },
     "execution_count": 32,
     "metadata": {},
     "output_type": "execute_result"
    }
   ],
   "source": [
    "b = foo(10)\n",
    "b"
   ],
   "metadata": {
    "collapsed": false,
    "ExecuteTime": {
     "start_time": "2023-05-14T16:08:57.954053Z",
     "end_time": "2023-05-14T16:08:58.340213Z"
    }
   }
  },
  {
   "cell_type": "code",
   "execution_count": 33,
   "outputs": [],
   "source": [
    "a = [foo(i) for i in range(10)]"
   ],
   "metadata": {
    "collapsed": false,
    "ExecuteTime": {
     "start_time": "2023-05-14T16:08:57.979982Z",
     "end_time": "2023-05-14T16:08:58.341209Z"
    }
   }
  },
  {
   "cell_type": "code",
   "execution_count": 34,
   "outputs": [
    {
     "data": {
      "text/plain": "[1.0, 6.0, 11.0, 16.0, 21.0, 26.0, 31.0, 36.0, 41.0, 46.0]"
     },
     "execution_count": 34,
     "metadata": {},
     "output_type": "execute_result"
    }
   ],
   "source": [
    "a"
   ],
   "metadata": {
    "collapsed": false,
    "ExecuteTime": {
     "start_time": "2023-05-14T16:08:58.002925Z",
     "end_time": "2023-05-14T16:08:58.342199Z"
    }
   }
  },
  {
   "cell_type": "code",
   "execution_count": 35,
   "outputs": [],
   "source": [
    "def foo(x: int, y: int):\n",
    "    return x + y"
   ],
   "metadata": {
    "collapsed": false,
    "ExecuteTime": {
     "start_time": "2023-05-14T16:08:58.028852Z",
     "end_time": "2023-05-14T16:08:58.342199Z"
    }
   }
  },
  {
   "cell_type": "code",
   "execution_count": 36,
   "outputs": [
    {
     "data": {
      "text/plain": "3"
     },
     "execution_count": 36,
     "metadata": {},
     "output_type": "execute_result"
    }
   ],
   "source": [
    "foo(1, 2)"
   ],
   "metadata": {
    "collapsed": false,
    "ExecuteTime": {
     "start_time": "2023-05-14T16:08:58.050792Z",
     "end_time": "2023-05-14T16:08:58.348183Z"
    }
   }
  },
  {
   "cell_type": "code",
   "execution_count": 37,
   "outputs": [],
   "source": [
    "def foo(x, y=5.0):\n",
    "    return x + y"
   ],
   "metadata": {
    "collapsed": false,
    "ExecuteTime": {
     "start_time": "2023-05-14T16:08:58.081719Z",
     "end_time": "2023-05-14T16:08:58.348183Z"
    }
   }
  },
  {
   "cell_type": "code",
   "execution_count": 38,
   "outputs": [
    {
     "data": {
      "text/plain": "3"
     },
     "execution_count": 38,
     "metadata": {},
     "output_type": "execute_result"
    }
   ],
   "source": [
    "foo(1, y=2)"
   ],
   "metadata": {
    "collapsed": false,
    "ExecuteTime": {
     "start_time": "2023-05-14T16:08:58.113626Z",
     "end_time": "2023-05-14T16:08:58.352181Z"
    }
   }
  },
  {
   "cell_type": "code",
   "execution_count": 39,
   "outputs": [],
   "source": [
    "def foo(x, y=1, z=3):\n",
    "    return x + y + z"
   ],
   "metadata": {
    "collapsed": false,
    "ExecuteTime": {
     "start_time": "2023-05-14T16:08:58.142163Z",
     "end_time": "2023-05-14T16:08:58.354181Z"
    }
   }
  },
  {
   "cell_type": "code",
   "execution_count": 40,
   "outputs": [
    {
     "data": {
      "text/plain": "5"
     },
     "execution_count": 40,
     "metadata": {},
     "output_type": "execute_result"
    }
   ],
   "source": [
    "foo(1)"
   ],
   "metadata": {
    "collapsed": false,
    "ExecuteTime": {
     "start_time": "2023-05-14T16:08:58.155137Z",
     "end_time": "2023-05-14T16:08:58.355170Z"
    }
   }
  },
  {
   "cell_type": "code",
   "execution_count": 41,
   "outputs": [],
   "source": [
    "def foo(*args, **kwargs):\n",
    "    print(args)\n",
    "    print(f\"kwargs: {kwargs}\")"
   ],
   "metadata": {
    "collapsed": false,
    "ExecuteTime": {
     "start_time": "2023-05-14T16:08:58.188044Z",
     "end_time": "2023-05-14T16:08:58.357166Z"
    }
   }
  },
  {
   "cell_type": "code",
   "execution_count": 42,
   "outputs": [],
   "source": [
    "def foo(*args):\n",
    "    print(args[0])"
   ],
   "metadata": {
    "collapsed": false,
    "ExecuteTime": {
     "start_time": "2023-05-14T16:08:58.222951Z",
     "end_time": "2023-05-14T16:08:58.976526Z"
    }
   }
  },
  {
   "cell_type": "code",
   "execution_count": 43,
   "outputs": [
    {
     "name": "stdout",
     "output_type": "stream",
     "text": [
      "1\n"
     ]
    }
   ],
   "source": [
    "foo(1, 2, 3, 4, 5, 6)"
   ],
   "metadata": {
    "collapsed": false,
    "ExecuteTime": {
     "start_time": "2023-05-14T16:08:58.249874Z",
     "end_time": "2023-05-14T16:08:58.990721Z"
    }
   }
  },
  {
   "cell_type": "code",
   "execution_count": 44,
   "outputs": [],
   "source": [
    "def foo(**kwargs):\n",
    "    print(kwargs.get('d', -1))"
   ],
   "metadata": {
    "collapsed": false,
    "ExecuteTime": {
     "start_time": "2023-05-14T16:08:58.273819Z",
     "end_time": "2023-05-14T16:08:59.115132Z"
    }
   }
  },
  {
   "cell_type": "code",
   "execution_count": 45,
   "outputs": [
    {
     "name": "stdout",
     "output_type": "stream",
     "text": [
      "-1\n"
     ]
    }
   ],
   "source": [
    "foo(a=3, b=2, c=1)"
   ],
   "metadata": {
    "collapsed": false,
    "ExecuteTime": {
     "start_time": "2023-05-14T16:08:58.296751Z",
     "end_time": "2023-05-14T16:08:59.118133Z"
    }
   }
  },
  {
   "cell_type": "code",
   "execution_count": 46,
   "outputs": [],
   "source": [
    "parameters_list = [1, 2, 3, 4]\n",
    "\n",
    "def foo(*args):\n",
    "    print(args)"
   ],
   "metadata": {
    "collapsed": false,
    "ExecuteTime": {
     "start_time": "2023-05-14T16:08:58.338210Z",
     "end_time": "2023-05-14T16:08:59.155027Z"
    }
   }
  },
  {
   "cell_type": "code",
   "execution_count": 47,
   "outputs": [
    {
     "name": "stdout",
     "output_type": "stream",
     "text": [
      "(1, 2, 3, 4)\n"
     ]
    }
   ],
   "source": [
    "foo(*parameters_list)"
   ],
   "metadata": {
    "collapsed": false,
    "ExecuteTime": {
     "start_time": "2023-05-14T16:08:58.360152Z",
     "end_time": "2023-05-14T16:08:59.177964Z"
    }
   }
  },
  {
   "cell_type": "code",
   "execution_count": 48,
   "outputs": [
    {
     "data": {
      "text/plain": "{'a': 1, 'b': 2, 'c': 3}"
     },
     "execution_count": 48,
     "metadata": {},
     "output_type": "execute_result"
    }
   ],
   "source": [
    "parameters_dict = dict(a=1, b=2, c=3)\n",
    "parameters_dict"
   ],
   "metadata": {
    "collapsed": false,
    "ExecuteTime": {
     "start_time": "2023-05-14T16:08:58.385085Z",
     "end_time": "2023-05-14T16:08:59.212878Z"
    }
   }
  },
  {
   "cell_type": "code",
   "execution_count": 49,
   "outputs": [],
   "source": [
    "def foo(**kwargs):\n",
    "    print(kwargs.get(\"a\"))"
   ],
   "metadata": {
    "collapsed": false,
    "ExecuteTime": {
     "start_time": "2023-05-14T16:08:58.405032Z",
     "end_time": "2023-05-14T16:08:59.214874Z"
    }
   }
  },
  {
   "cell_type": "code",
   "execution_count": 50,
   "outputs": [
    {
     "name": "stdout",
     "output_type": "stream",
     "text": [
      "1\n"
     ]
    }
   ],
   "source": [
    "foo(**parameters_dict)"
   ],
   "metadata": {
    "collapsed": false,
    "ExecuteTime": {
     "start_time": "2023-05-14T16:08:58.433956Z",
     "end_time": "2023-05-14T16:08:59.224843Z"
    }
   }
  },
  {
   "cell_type": "code",
   "execution_count": 51,
   "outputs": [],
   "source": [
    "def foo(x, y=2):\n",
    "    return x + y"
   ],
   "metadata": {
    "collapsed": false,
    "ExecuteTime": {
     "start_time": "2023-05-14T16:08:58.451907Z",
     "end_time": "2023-05-14T16:08:59.225846Z"
    }
   }
  },
  {
   "cell_type": "code",
   "execution_count": 52,
   "outputs": [],
   "source": [
    "import numpy as np\n",
    "import pandas as pd"
   ],
   "metadata": {
    "collapsed": false,
    "ExecuteTime": {
     "start_time": "2023-05-14T16:08:58.468861Z",
     "end_time": "2023-05-14T16:08:59.919223Z"
    }
   }
  },
  {
   "cell_type": "code",
   "execution_count": 53,
   "outputs": [
    {
     "data": {
      "text/plain": "array([1, 2, 3])"
     },
     "execution_count": 53,
     "metadata": {},
     "output_type": "execute_result"
    }
   ],
   "source": [
    "np.array([1, 2, 3])"
   ],
   "metadata": {
    "collapsed": false,
    "ExecuteTime": {
     "start_time": "2023-05-14T16:08:59.921218Z",
     "end_time": "2023-05-14T16:08:59.981584Z"
    }
   }
  },
  {
   "cell_type": "code",
   "execution_count": 53,
   "outputs": [],
   "source": [],
   "metadata": {
    "collapsed": false,
    "ExecuteTime": {
     "start_time": "2023-05-14T16:08:59.950648Z",
     "end_time": "2023-05-14T16:08:59.982567Z"
    }
   }
  }
 ],
 "metadata": {
  "kernelspec": {
   "display_name": "Python 3",
   "language": "python",
   "name": "python3"
  },
  "language_info": {
   "codemirror_mode": {
    "name": "ipython",
    "version": 2
   },
   "file_extension": ".py",
   "mimetype": "text/x-python",
   "name": "python",
   "nbconvert_exporter": "python",
   "pygments_lexer": "ipython2",
   "version": "2.7.6"
  }
 },
 "nbformat": 4,
 "nbformat_minor": 0
}
