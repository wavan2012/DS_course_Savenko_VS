{
 "cells": [
  {
   "cell_type": "markdown",
   "id": "2b14b3db",
   "metadata": {
    "toc": true
   },
   "source": [
    "<h1>Table of Contents<span class=\"tocSkip\"></span></h1>\n",
    "<div class=\"toc\"><ul class=\"toc-item\"><li><span><a href=\"#Точность-(Accuracy):\" data-toc-modified-id=\"Точность-(Accuracy):-1\"><span class=\"toc-item-num\">1&nbsp;&nbsp;</span>Точность (Accuracy):</a></span></li><li><span><a href=\"#Точность-(Precision):\" data-toc-modified-id=\"Точность-(Precision):-2\"><span class=\"toc-item-num\">2&nbsp;&nbsp;</span>Точность (Precision):</a></span></li><li><span><a href=\"#Полнота-(Recall)-или-Чувствительность-(Sensitivity):\" data-toc-modified-id=\"Полнота-(Recall)-или-Чувствительность-(Sensitivity):-3\"><span class=\"toc-item-num\">3&nbsp;&nbsp;</span>Полнота (Recall) или Чувствительность (Sensitivity):</a></span></li><li><span><a href=\"#F1-мера-(F1-score):\" data-toc-modified-id=\"F1-мера-(F1-score):-4\"><span class=\"toc-item-num\">4&nbsp;&nbsp;</span>F1-мера (F1-score):</a></span></li><li><span><a href=\"#AUC-ROC-(Area-Under-the-Receiver-Operating-Characteristics-curve):\" data-toc-modified-id=\"AUC-ROC-(Area-Under-the-Receiver-Operating-Characteristics-curve):-5\"><span class=\"toc-item-num\">5&nbsp;&nbsp;</span>AUC-ROC (Area Under the Receiver Operating Characteristics curve):</a></span></li><li><span><a href=\"#Кросс-энтропия-(Log-Loss):\" data-toc-modified-id=\"Кросс-энтропия-(Log-Loss):-6\"><span class=\"toc-item-num\">6&nbsp;&nbsp;</span>Кросс-энтропия (Log Loss):</a></span></li><li><span><a href=\"#Среднеквадратичная-ошибка-(Mean-Squared-Error,-MSE):\" data-toc-modified-id=\"Среднеквадратичная-ошибка-(Mean-Squared-Error,-MSE):-7\"><span class=\"toc-item-num\">7&nbsp;&nbsp;</span>Среднеквадратичная ошибка (Mean Squared Error, MSE):</a></span></li><li><span><a href=\"#Средняя-абсолютная-ошибка-(Mean-Absolute-Error,-MAE):\" data-toc-modified-id=\"Средняя-абсолютная-ошибка-(Mean-Absolute-Error,-MAE):-8\"><span class=\"toc-item-num\">8&nbsp;&nbsp;</span>Средняя абсолютная ошибка (Mean Absolute Error, MAE):</a></span></li><li><span><a href=\"#Корень-из-среднеквадратичной-ошибки-(Root-Mean-Squared-Error,-RMSE):\" data-toc-modified-id=\"Корень-из-среднеквадратичной-ошибки-(Root-Mean-Squared-Error,-RMSE):-9\"><span class=\"toc-item-num\">9&nbsp;&nbsp;</span>Корень из среднеквадратичной ошибки (Root Mean Squared Error, RMSE):</a></span></li><li><span><a href=\"#Коэффициент-детерминации-R^2-(R-squared):\" data-toc-modified-id=\"Коэффициент-детерминации-R^2-(R-squared):-10\"><span class=\"toc-item-num\">10&nbsp;&nbsp;</span>Коэффициент детерминации R^2 (R-squared):</a></span></li></ul></div>"
   ]
  },
  {
   "cell_type": "markdown",
   "id": "5d88d96b",
   "metadata": {},
   "source": [
    "# Введение в нейронные сети\n",
    "\n",
    "Общая продолжительность: 3 часа\n",
    "\n",
    "Вступление (5 минут)\n",
    "\n",
    "Цель занятия\n",
    "Обзор содержания занятия\n",
    "Понятие нейронных сетей и нейрона (25 минут)\n",
    "\n",
    "Основные понятия и определения\n",
    "Структура искусственного нейрона\n",
    "Математическая формулировка работы нейрона\n",
    "Введение в многослойный персептрон\n",
    "Функции активации (25 минут)\n",
    "\n",
    "Что такое функция активации и зачем она нужна\n",
    "Основные виды функций активации (линейная, сигмоид, ReLU и т.д.)\n",
    "Влияние выбора функции активации на обучение сети\n",
    "Learning (Forward and Backpropagation) (45 минут)\n",
    "\n",
    "Общая схема обучения нейронных сетей\n",
    "Процесс прямого распространения (forward propagation)\n",
    "Метод обратного распространения ошибки (backpropagation)\n",
    "Математическая формулировка процесса обучения\n",
    "Смещение/разброс (Bias/Variance) (25 минут)\n",
    "\n",
    "Понятие смещения и разброса в контексте машинного обучения\n",
    "Дилемма смещения-разброса\n",
    "Способы борьбы с переобучением и недообучением\n",
    "Кривые обучения (Learning curves) (25 минут)\n",
    "\n",
    "Что такое кривые обучения и как они помогают анализировать процесс обучения\n",
    "Как строить и интерпретировать кривые обучения\n",
    "Примеры использования кривых обучения для настройки гиперпараметров модели\n",
    "Метрики оценки (30 минут)\n",
    "\n",
    "Основные метрики оценки для задач классификации (точность, полнота, AUC-ROC и т.д.)\n",
    "Основные метрики оценки для задач регрессии (MSE, MAE и т.д.)\n",
    "Как выбрать подходящую метрику оценки для конкретной задачи\n",
    "Практическое упражнение: реализация и обучение простой нейронной сети с использованием Python и библиотеки Keras (40 минут)\n",
    "\n",
    "Заключение и ответы на вопросы (5 минут)\n",
    "\n",
    "Примечание: Время, указанное для каждого раздела, является приблизительным и может изменяться в зависимости от вопросов студентов и деталей конкретного занятия."
   ]
  },
  {
   "cell_type": "markdown",
   "id": "5415a224",
   "metadata": {},
   "source": [
    "Вступление (5 минут)\n",
    "\n",
    "Добро пожаловать на занятие по введению в нейронные сети! Нейронные сети - это один из основных инструментов машинного обучения и области искусственного интеллекта, который становится все более и более популярным в современной индустрии. Этот подход к моделированию вдохновлен биологическими нейронными сетями и имитирует их работу для решения сложных задач, таких как распознавание изображений, обработка естественного языка, прогнозирование временных рядов и многое другое.\n",
    "\n",
    "Цель занятия\n",
    "\n",
    "Цель сегодняшнего занятия - освоить основы нейронных сетей и их компонентов, понять, как они работают, и узнать, как использовать их для решения практических задач. Мы изучим структуру искусственного нейрона и многослойного персептрона, обсудим функции активации, узнаем о процессах прямого распространения и обратного распространения ошибки, познакомимся с такими понятиями, как смещение и разброс, кривые обучения и метрики оценки.\n",
    "\n",
    "Обзор содержания занятия\n",
    "\n",
    "Сначала мы поговорим о том, что такое нейронные сети и как они устроены. Затем перейдем к обсуждению функций активации и их роли в обучении нейронной сети. Далее рассмотрим механизм обучения нейронной сети, включая прямое распространение и обратное распространение ошибки. В следующем разделе мы обсудим важные понятия смещения и разброса, их влияние на обучение модели и способы управления этими аспектами. Далее мы поговорим о кривых обучения и том, как они могут помочь в понимании процесса обучения и настройке модели. И, наконец, мы затронем тему метрик оценки и рассмотрим основные метрики, которые используются в задачах машинного обучения.\n",
    "\n",
    "В конце занятия мы проведем практическое упражнение, в котором вы научитесь реализовывать и обучать простую нейронную сеть с использованием Python и библиотеки Keras."
   ]
  },
  {
   "cell_type": "markdown",
   "id": "b264f987",
   "metadata": {},
   "source": [
    "Основные понятия и определения в нейронных сетях (40 минут)\n",
    "\n",
    "Нейронные сети: Вдохновленные биологическими нейронами в человеческом мозге, нейронные сети являются основой для глубокого обучения. Нейронная сеть состоит из слоев искусственных нейронов, каждый из которых может получать входные данные, обрабатывать их и передавать результат следующему слою. Нейронные сети способны обучаться, настраивая веса своих связей для минимизации ошибки в предсказаниях.\n",
    "\n",
    "Искусственный нейрон: Базовый строительный блок нейронной сети. Искусственный нейрон принимает на вход взвешенную сумму входных данных, применяет к ней функцию активации и передает результат на следующий слой.\n",
    "\n",
    "Слои: Нейронные сети организованы в слои. Каждый слой состоит из набора нейронов, которые обрабатывают информацию параллельно. Существуют три типа слоев: входной слой, скрытые слои и выходной слой.\n",
    "\n",
    "Веса и смещение: Веса - это коэффициенты, которые определяют, насколько сильно входы влияют на выход нейрона. Смещение позволяет контролировать, когда нейрон активируется, независимо от его входов.\n",
    "\n",
    "Функции активации: Функция активации определяет выход нейрона на основе его входных данных. Обычно она добавляет нелинейность в модель, что позволяет нейронной сети аппроксимировать более сложные функции.\n",
    "\n",
    "Прямое распространение: В процессе прямого распространения информация передается от входного слоя к выходному слою, и на каждом шаге нейроны обрабатывают входные данные и передают результаты дальше.\n",
    "\n",
    "Обратное распространение ошибки: Обратное распространение - это алгоритм, который используется для обучения нейронной сети. Он вычисляет градиент функции ошибки относительно весов сети, начиная с выходного слоя и идя в обратном направлении, отсюда и название.\n",
    "\n",
    "Смещение и разброс: Смещение относится к ошибке, которая возникает из-за неправильных предположений в алгоритме обучения. Разброс относится к ошибке, вызванной избыточной сложностью модели. Оптимальная модель сбалансирована между смещением и разбросом.\n",
    "\n",
    "Кривые обучения: Кривые обучения - это графики, которые показывают изменение производительности модели на обучающем и валидационном наборах в зависимости от объема данных обучения.\n",
    "\n",
    "Метрики оценки: Метрики оценки используются для измерения качества модели. К ним относятся, например, точность, отклик, точность, F-мера, AUC-ROC и многие другие. Выбор метрики зависит от конкретной задачи и требований к модели."
   ]
  },
  {
   "cell_type": "markdown",
   "id": "fd14a314",
   "metadata": {},
   "source": [
    "Структура искусственного нейрона (15 минут)\n",
    "\n",
    "Искусственный нейрон - это базовый строительный блок нейронной сети. Его структура имитирует биологический нейрон, хотя и упрощает реальные биологические процессы.\n",
    "\n",
    "Входные данные (Input): Входные данные нейрона представляют собой вектор значений, каждое из которых связано с определенным весом. Входные данные могут быть сырыми значениями признаков в данных или выходами других нейронов в сети.\n",
    "\n",
    "Веса (Weights): Веса - это коэффициенты, которые определяют, насколько сильно каждый вход влияет на выход нейрона. Веса обновляются во время процесса обучения с целью минимизации ошибки модели.\n",
    "\n",
    "Сумматор (Summation function): Сумматор просто суммирует все входные данные, умноженные на соответствующие им веса. Можно рассматривать его как функцию, которая объединяет все входные данные.\n",
    "\n",
    "Смещение (Bias): Смещение - это дополнительный параметр в нейроне, который позволяет сдвигать выход функции активации влево или вправо. Это увеличивает гибкость модели и позволяет нейрону лучше аппроксимировать целевую функцию.\n",
    "\n",
    "Функция активации (Activation function): После суммирования взвешенных входных данных и добавления смещения результат пропускается через функцию активации. Функция активации контролирует выход нейрона. В нейронных сетях часто используются нелинейные функции активации, такие как сигмоид, гиперболический тангенс или ReLU (Rectified Linear Unit), что позволяет сети аппроксимировать более сложные функции.\n",
    "\n",
    "Выход (Output): Выход нейрона - это значение, которое он передает следующему слою после применения функции активации.\n",
    "\n",
    "Искусственный нейрон осуществляет два основных шага: линейное комбинирование входных данных с использованием весов и смещения (суммирование), а затем применение функции активации."
   ]
  },
  {
   "cell_type": "markdown",
   "id": "4a1d9524",
   "metadata": {},
   "source": [
    "Математическая формулировка работы нейрона (15 минут)\n",
    "\n",
    "Процесс работы нейрона можно разделить на два этапа: линейное комбинирование входных данных и применение функции активации. Эти этапы могут быть описаны следующим образом:\n",
    "\n",
    "Линейное комбинирование входных данных:\n",
    "\n",
    "На этом этапе каждый входной признак умножается на соответствующий ему вес, и все эти произведения суммируются вместе с дополнительным смещением.\n",
    "\n",
    "Если обозначить входные признаки как x1, x2, ..., xn и их соответствующие веса как w1, w2, ..., wn, а смещение как b, то суммирование можно записать как:\n",
    "\n",
    "z = w1*x1 + w2*x2 + ... + wn*xn + b\n",
    "\n",
    "Также это можно записать в виде векторного произведения:\n",
    "\n",
    "z = W^T * X + b\n",
    "\n",
    "где W - вектор весов, X - вектор входов, b - смещение.\n",
    "\n",
    "Применение функции активации:\n",
    "\n",
    "После того, как была получена сумма z, она подается на вход функции активации. Функция активации, обозначенная как f, преобразует сумму в выходное значение нейрона.\n",
    "\n",
    "a = f(z)\n",
    "\n",
    "где a - это выходное значение нейрона.\n",
    "\n",
    "Функция активации может быть любой функцией, подходящей для конкретной задачи, но обычно используются нелинейные функции, такие как сигмоид, тангенс гиперболический или ReLU.\n",
    "\n",
    "Весь процесс работы нейрона можно записать в одной формуле:\n",
    "\n",
    "a = f(W^T * X + b)\n",
    "\n",
    "где a - выходное значение нейрона, f - функция активации, W - вектор весов, X - вектор входов, b - смещение."
   ]
  },
  {
   "cell_type": "markdown",
   "id": "27d998b1",
   "metadata": {},
   "source": [
    "Допустим, у нас есть одиночный нейрон с тремя входами. Для простоты мы будем использовать функцию активации ReLU (Rectified Linear Unit), которая возвращает вход, если он положительный, и возвращает 0 в противном случае."
   ]
  },
  {
   "cell_type": "code",
   "execution_count": 1,
   "id": "abfba36a",
   "metadata": {
    "ExecuteTime": {
     "end_time": "2023-07-25T12:02:47.017865Z",
     "start_time": "2023-07-25T12:02:47.011654Z"
    }
   },
   "outputs": [
    {
     "name": "stdout",
     "output_type": "stream",
     "text": [
      "Выходное значение нейрона:  1.5\n"
     ]
    }
   ],
   "source": [
    "import numpy as np\n",
    "\n",
    "def relu(x):\n",
    "    return np.maximum(0, x)\n",
    "\n",
    "def tanh(x):\n",
    "    return (np.exp(x) - np.exp(-x))/(np.exp(x) + np.exp(-x))\n",
    "\n",
    "# инициализируем веса и смещение\n",
    "W = np.array([0.1, 0.2, 0.3])  # веса\n",
    "b = 0.1  # смещение\n",
    "\n",
    "# входные данные\n",
    "X = np.array([1, 2, 3])  # входы\n",
    "\n",
    "# линейное комбинирование входных данных\n",
    "z = np.dot(W, X) + b\n",
    "\n",
    "# применение функции активации\n",
    "a = relu(z)\n",
    "\n",
    "print(\"Выходное значение нейрона: \", a)\n"
   ]
  },
  {
   "cell_type": "markdown",
   "id": "9fa8b541",
   "metadata": {},
   "source": [
    "В этом коде мы инициализируем веса и смещение, затем выполняем линейное комбинирование входных данных и применяем функцию активации ReLU. Результат выводится на экран."
   ]
  },
  {
   "cell_type": "markdown",
   "id": "405aa426",
   "metadata": {},
   "source": [
    "Многослойный персептрон (MLP, Multi-Layer Perceptron) — это тип искусственной нейронной сети. Он состоит из трех или более слоев: входного, выходного и одного или нескольких скрытых слоев. Все слои многослойного персептрона, кроме входного, содержат узлы, которые представляют собой искусственные нейроны или узлы активации.\n",
    "\n",
    "Входной слой: Входной слой содержит нейроны, которые получают входные данные. Каждый нейрон связан с каждым нейроном следующего слоя. Количество нейронов во входном слое соответствует количеству входных признаков.\n",
    "\n",
    "Скрытый слой: Скрытые слои находятся между входным и выходным слоями. Скрытые слои выполняют большую часть вычислений, необходимых для обучения нейронной сети. В скрытых слоях происходят все важные вычисления для работы MLP.\n",
    "\n",
    "Выходной слой: В выходном слое находятся нейроны, которые выдают окончательный результат или прогноз нейронной сети. Количество нейронов в выходном слое обычно соответствует числу классов для задач классификации или одному нейрону для задач регрессии.\n",
    "\n",
    "Слои многослойного персептрона связаны вместе через веса. Каждый нейрон в слое связан с каждым нейроном в следующем слое. Информация движется от входного слоя к выходному слою, причем каждый нейрон в следующем слое получает взвешенную сумму выходных данных предыдущего слоя.\n",
    "\n",
    "Многослойный персептрон обычно используется с функцией активации, которая вводит нелинейность в модель, позволяя ей учиться от сложных данных. Общие функции активации включают сигмоид, гиперболический тангенс и ReLU.\n",
    "\n",
    "Обучение многослойного персептрона осуществляется с помощью алгоритма обратного распространения ошибки, который использует градиентный спуск для обновления весов и минимизации потерь."
   ]
  },
  {
   "cell_type": "markdown",
   "id": "addd5ab1",
   "metadata": {},
   "source": [
    "Функция активации в искусственных нейронных сетях - это математическая функция, применяемая к выходному сигналу нейрона. Эта функция используется для преобразования суммированных взвешенных входных данных нейрона в форму, которую можно использовать для дальнейшего передачи по сети, и в конечном итоге для создания выходного сигнала сети.\n",
    "\n",
    "Функция активации играет ключевую роль в определении свойств нейронной сети. Без функции активации, нейронная сеть становится эквивалентом линейной регрессии, и будет способна только обучаться и моделировать линейные отношения между входами и выходами. Введение функции активации позволяет нейронной сети моделировать и обучаться на нелинейных отношениях.\n",
    "\n",
    "Существуют различные типы функций активации, каждая из которых имеет свои особенности и подходит для решения определенного типа задач. Например:\n",
    "\n",
    "Сигмоидная функция активации: Она преобразует любое входное значение в число в диапазоне от 0 до 1, что делает ее полезной для создания вероятностных оценок в задачах классификации.\n",
    "\n",
    "ReLU (Rectified Linear Unit): Она выводит вход, если он положительный, и 0 в противном случае. ReLU - самая популярная функция активации в сверточных нейронных сетях и быстро становится стандартом для большинства типов нейронных сетей из-за своей эффективности и простоты вычислений.\n",
    "\n",
    "Гиперболический тангенс (tanh): Эта функция преобразует входные значения в числа в диапазоне от -1 до 1. Она похожа на сигмоидную функцию активации, но может обрабатывать отрицательные входные значения более эффективно.\n",
    "\n",
    "Softmax: Softmax преобразует входные значения в набор чисел, которые можно интерпретировать как вероятности. Эта функция активации обычно используется в выходном слое многоклассовых задач классификации."
   ]
  },
  {
   "cell_type": "markdown",
   "id": "e1f62224",
   "metadata": {},
   "source": [
    "Функции активации играют ключевую роль в архитектуре нейронных сетей. Они решают, должен ли нейрон быть активирован или нет, основываясь на взвешенной сумме входных данных. Ниже приведены формулы некоторых основных функций активации.\n",
    "\n",
    "Линейная функция активации:\n",
    "\n",
    "Линейная функция активации, или Identity, является простой функцией активации, которая возвращает свои входные данные без изменений.\n",
    "\n",
    "f(x) = x\n",
    "\n",
    "Сигмоидная функция активации:\n",
    "\n",
    "Сигмоидная функция активации преобразует входные значения в выходные значения в диапазоне между 0 и 1, делая ее полезной для преобразования чисел в вероятности.\n",
    "\n",
    "f(x) = 1 / (1 + exp(-x))\n",
    "\n",
    "ReLU (Rectified Linear Unit) функция активации:\n",
    "\n",
    "ReLU функция активации выводит вход, если он положительный, и 0 в противном случае. Это помогает сети избежать проблемы исчезающего градиента в глубоких сетях.\n",
    "\n",
    "f(x) = max(0, x)\n",
    "\n",
    "Tanh (Гиперболический тангенс) функция активации:\n",
    "\n",
    "Tanh преобразует входные значения в числа в диапазоне от -1 до 1. Это делает его полезным, когда модель должна учесть отрицательные входные значения.\n",
    "\n",
    "f(x) = (exp(x) - exp(-x)) / (exp(x) + exp(-x))\n",
    "\n",
    "Softmax функция активации:\n",
    "\n",
    "Softmax преобразует входные значения в набор чисел, которые можно интерпретировать как вероятности. Эта функция активации обычно используется на выходном слое нейронной сети для многоклассовой классификации.\n",
    "\n",
    "f(x_j) = exp(x_j) / sum(exp(x_i)) для всех i\n",
    "\n",
    "где x - входные данные, exp - экспоненциальная функция, и sum обозначает сумму по всем i."
   ]
  },
  {
   "cell_type": "markdown",
   "id": "47fcafb7",
   "metadata": {},
   "source": [
    "Для создания графиков функций активации в Python мы можем использовать библиотеку matplotlib для визуализации. Ниже приведен код, который реализует и отображает графики функций активации."
   ]
  },
  {
   "cell_type": "code",
   "execution_count": 2,
   "id": "4ae9a132",
   "metadata": {
    "ExecuteTime": {
     "end_time": "2023-07-25T12:03:54.027176Z",
     "start_time": "2023-07-25T12:03:52.602305Z"
    }
   },
   "outputs": [
    {
     "data": {
      "image/png": "[encoded data removed]",
      "text/plain": [
       "<Figure size 1200x800 with 4 Axes>"
      ]
     },
     "metadata": {},
     "output_type": "display_data"
    }
   ],
   "source": [
    "import numpy as np\n",
    "import matplotlib.pyplot as plt\n",
    "\n",
    "# определение функций активации\n",
    "def sigmoid(x):\n",
    "    return 1 / (1 + np.exp(-x))\n",
    "\n",
    "def relu(x):\n",
    "    return np.maximum(0, x)\n",
    "\n",
    "def tanh(x):\n",
    "    return np.tanh(x)\n",
    "\n",
    "def linear(x):\n",
    "    return x\n",
    "\n",
    "x = np.linspace(-10, 10, 100)\n",
    "\n",
    "# создание графиков\n",
    "plt.figure(figsize=(12, 8))\n",
    "\n",
    "plt.subplot(2, 2, 1)\n",
    "plt.plot(x, sigmoid(x))\n",
    "plt.title('Сигмоидная функция активации')\n",
    "\n",
    "plt.subplot(2, 2, 2)\n",
    "plt.plot(x, relu(x))\n",
    "plt.title('ReLU функция активации')\n",
    "\n",
    "plt.subplot(2, 2, 3)\n",
    "plt.plot(x, tanh(x))\n",
    "plt.title('Tanh функция активации')\n",
    "\n",
    "plt.subplot(2, 2, 4)\n",
    "plt.plot(x, linear(x))\n",
    "plt.title('Линейная функция активации')\n",
    "\n",
    "plt.tight_layout()\n",
    "plt.show()\n"
   ]
  },
  {
   "cell_type": "markdown",
   "id": "fb1b0dc3",
   "metadata": {
    "ExecuteTime": {
     "end_time": "2023-07-25T12:07:40.602397Z",
     "start_time": "2023-07-25T12:07:40.594720Z"
    }
   },
   "source": [
    "Выбор функции активации в нейронной сети имеет большое значение и может существенно повлиять на процесс обучения и производительность модели.\n",
    "\n",
    "1. Линейная функция активации: Линейная функция активации (или идентичная функция) просто возвращает входные данные без изменений. При использовании линейной функции активации, нейронная сеть по сути будет выполнять только линейное преобразование данных, что ограничивает её способность моделировать сложные (нелинейные) зависимости.\n",
    "\n",
    "2. Сигмоидная функция активации: Сигмоидная функция активации преобразует входное значение в диапазон между 0 и 1, что может быть интерпретировано как вероятность. Однако эта функция активации подвержена проблеме затухающих градиентов, когда значения находятся в области насыщения функции (то есть, близко к 0 или 1). В этих областях градиент функции становится очень маленьким, что замедляет процесс обучения.\n",
    "\n",
    "3. Гиперболический тангенс (tanh): Функция активации tanh также подвержена проблеме затухающих градиентов, однако, в отличие от сигмоидной функции, она возвращает значения в диапазоне от -1 до 1. Это означает, что среднее выходных значений ближе к 0, что может ускорить сходимость при обучении.\n",
    "\n",
    "4. ReLU (Rectified Linear Unit): ReLU является одной из самых популярных функций активации и используется в большинстве случаев. Она возвращает 0 для отрицательных входных значений и не изменяет положительные входные значения. Одним из преимуществ ReLU является то, что она не подвержена проблеме затухающих градиентов, что может ускорить процесс обучения. Однако, у неё есть своя проблема \"умирающих\" ReLU, когда нейроны могут стать неактивными и перестать обновляться, если их входные значения становятся отрицательными.\n",
    "\n",
    "5. Leaky ReLU и параметрический ReLU: Это вариации ReLU, созданные для решения проблемы \"умирающих\" ReLU. Они возвращают небольшое значение коэффициента утечки для отрицательных входных значений, вместо 0.\n",
    "\n",
    "6. Функция активации ELU (Exponential Linear Unit): Эта функция активации похожа на ReLU, но имеет ненулевой градиент для отрицательных входных значений и смещает выходные значения ближе к 0, что может ускорить обучение.\n",
    "\n",
    "Выбор правильной функции активации зависит от специфики задачи и данных. Большинство современных нейронных сетей используют ReLU или одну из его вариаций, но в некоторых случаях сигмоидная или гиперболическая функции активации могут быть предпочтительнее."
   ]
  },
  {
   "cell_type": "markdown",
   "id": "4744fb95",
   "metadata": {},
   "source": [
    "Обучение нейронных сетей обычно состоит из нескольких ключевых этапов:\n",
    "\n",
    "Инициализация весов: Сначала мы инициализируем веса нейронной сети. Это могут быть небольшие случайные числа. Этот шаг необходим, так как начальные значения весов определяют, как модель будет \"изучать\" и адаптироваться к данным. Инициализация всех весов нулями приведет к тому, что все нейроны в сети будут учиться одинаково, что не желательно.\n",
    "\n",
    "Прямое распространение (Forward Propagation): Затем мы выполняем прямое распространение, в котором входные данные проходят через сеть, и сеть делает предсказания. Эти предсказания сравниваются с реальными значениями для расчета функции потерь.\n",
    "\n",
    "Обратное распространение ошибки (Backpropagation): В этом шаге вычисляются градиенты функции потерь по весам и смещениям сети с помощью алгоритма обратного распространения ошибки (backpropagation). Этот алгоритм основан на методе градиентного спуска.\n",
    "\n",
    "Обновление весов: Используя вычисленные градиенты, мы обновляем веса сети. Величина обновления определяется скоростью обучения. Если скорость обучения слишком высока, сеть может пропустить оптимальное решение. Если слишком низкая, обучение может быть очень медленным.\n",
    "\n",
    "Повторение: Эти шаги (2-4) повторяются до тех пор, пока функция потерь не будет минимизирована до приемлемого уровня или пока не будет достигнуто максимальное число эпох обучения. Один цикл прямого и обратного распространения для всех обучающих примеров называется эпохой.\n",
    "\n",
    "Оценка модели: После обучения модель тестируется на новых данных (тестовом наборе), которые не использовались во время обучения. Это помогает оценить, насколько хорошо модель обобщает и предсказывает новые данные.\n",
    "\n",
    "Настройка и оптимизация: При необходимости, мы настраиваем архитектуру сети (например, количество слоев, количество нейронов в слое, скорость обучения и т.д.) и повторяем процесс обучения, пока не будем удовлетворены результатами."
   ]
  },
  {
   "cell_type": "markdown",
   "id": "83ea40fd",
   "metadata": {},
   "source": [
    "В качестве примера можно рассмотреть простейшую нейронную сеть с одним скрытым слоем и функцией активации сигмоид. Для упрощения будем считать, что сеть имеет всего два входа, два нейрона в скрытом слое и один выход.\n",
    "\n",
    "Сначала определим функции для нашей функции активации и её производной."
   ]
  },
  {
   "cell_type": "code",
   "execution_count": 3,
   "id": "0f6a4a75",
   "metadata": {
    "ExecuteTime": {
     "end_time": "2023-07-25T12:08:42.453005Z",
     "start_time": "2023-07-25T12:08:42.449448Z"
    }
   },
   "outputs": [],
   "source": [
    "import numpy as np\n",
    "\n",
    "def sigmoid(x):\n",
    "    return 1.0/(1+ np.exp(-x))\n",
    "\n",
    "def sigmoid_derivative(x):\n",
    "    return x * (1.0 - x)\n"
   ]
  },
  {
   "cell_type": "markdown",
   "id": "35b90848",
   "metadata": {},
   "source": [
    "Теперь создадим структуру нашей сети:"
   ]
  },
  {
   "cell_type": "code",
   "execution_count": 4,
   "id": "ba8bfe4d",
   "metadata": {
    "ExecuteTime": {
     "end_time": "2023-07-25T12:08:59.934629Z",
     "start_time": "2023-07-25T12:08:59.928830Z"
    }
   },
   "outputs": [],
   "source": [
    "class NeuralNetwork:\n",
    "    def __init__(self, x, y):\n",
    "        self.input      = x\n",
    "        self.weights1   = np.random.rand(self.input.shape[1],4) \n",
    "        self.weights2   = np.random.rand(4,1)                 \n",
    "        self.y          = y\n",
    "        self.output     = np.zeros(self.y.shape)\n",
    "\n",
    "    def feedforward(self):\n",
    "        self.layer1 = sigmoid(np.dot(self.input, self.weights1))\n",
    "        self.output = sigmoid(np.dot(self.layer1, self.weights2))\n",
    "\n",
    "    def backprop(self):\n",
    "        # application of the chain rule to find derivative of the loss function with respect to weights2 and weights1\n",
    "        d_weights2 = np.dot(self.layer1.T, (2*(self.y - self.output) * sigmoid_derivative(self.output)))\n",
    "        d_weights1 = np.dot(self.input.T,  (np.dot(2*(self.y - self.output) * sigmoid_derivative(self.output), self.weights2.T) * sigmoid_derivative(self.layer1)))\n",
    "\n",
    "        # update the weights with the derivative (slope) of the loss function\n",
    "        self.weights1 += d_weights1\n",
    "        self.weights2 += d_weights2\n"
   ]
  },
  {
   "cell_type": "markdown",
   "id": "22af0e6e",
   "metadata": {},
   "source": [
    "Теперь мы можем создать нейронную сеть и обучить её на наших данных:"
   ]
  },
  {
   "cell_type": "code",
   "execution_count": 5,
   "id": "6b9288d7",
   "metadata": {
    "ExecuteTime": {
     "end_time": "2023-07-25T12:09:39.349367Z",
     "start_time": "2023-07-25T12:09:39.290253Z"
    }
   },
   "outputs": [
    {
     "name": "stdout",
     "output_type": "stream",
     "text": [
      "[[0.03987921]\n",
      " [0.96489732]\n",
      " [0.96413496]\n",
      " [0.03287822]]\n"
     ]
    }
   ],
   "source": [
    "X = np.array([[0,0],[0,1],[1,0],[1,1]])\n",
    "y = np.array([[0],[1],[1],[0]])\n",
    "\n",
    "nn = NeuralNetwork(X,y)\n",
    "\n",
    "for i in range(1500):\n",
    "    nn.feedforward()\n",
    "    nn.backprop()\n",
    "\n",
    "print(nn.output)\n"
   ]
  },
  {
   "cell_type": "markdown",
   "id": "e23ac498",
   "metadata": {},
   "source": [
    "Примечание: Здесь используется среднеквадратическая ошибка в качестве функции потерь. Это стандартный выбор для задач регрессии, но для задач классификации часто используются другие функции, такие как перекрестная энтропия."
   ]
  },
  {
   "cell_type": "markdown",
   "id": "4a139190",
   "metadata": {},
   "source": [
    "Прямое распространение (forward propagation) — это процесс, в котором информация проходит через слои нейронной сети от входа к выходу. Во время прямого распространения входные данные умножаются на веса, к результату прибавляется смещение (bias), и затем получившееся значение передается через функцию активации. Этот процесс повторяется для каждого слоя в нейронной сети.\n",
    "\n",
    "В математическом выражении прямое распространение может быть представлено следующим образом:\n",
    "\n",
    "Вычисление взвешенного суммарного входа для каждого нейрона в скрытом слое: h = Wx + b, где W — веса, x — входные данные, b — смещение.\n",
    "\n",
    "Применение функции активации к взвешенному входу: a = f(h), где f() — функция активации, a — активация.\n",
    "\n",
    "Повторение шагов 1 и 2 для каждого слоя в сети.\n",
    "\n",
    "На выходе последнего слоя активация будет представлять собой предсказание нейронной сети."
   ]
  },
  {
   "cell_type": "markdown",
   "id": "f3cd6440",
   "metadata": {},
   "source": [
    "Вот простой алгоритм прямого распространения на Python с использованием библиотеки numpy:"
   ]
  },
  {
   "cell_type": "code",
   "execution_count": 6,
   "id": "963b17ff",
   "metadata": {
    "ExecuteTime": {
     "end_time": "2023-07-25T12:10:17.859621Z",
     "start_time": "2023-07-25T12:10:17.618043Z"
    }
   },
   "outputs": [
    {
     "name": "stdout",
     "output_type": "stream",
     "text": [
      "Выходные данные после обучения:\n",
      "[[0.00702213]\n",
      " [0.99100952]\n",
      " [0.99215162]\n",
      " [0.01047911]]\n"
     ]
    }
   ],
   "source": [
    "import numpy as np\n",
    "\n",
    "def sigmoid(x):\n",
    "    return 1 / (1 + np.exp(-x))\n",
    "\n",
    "# Определение входных данных и весов\n",
    "X = np.array([[0, 0, 1], [0, 1, 1], [1, 0, 1], [1, 1, 1]])\n",
    "y = np.array([[0, 1, 1, 0]]).T\n",
    "\n",
    "np.random.seed(1)\n",
    "\n",
    "# Случайная инициализация весов\n",
    "weights_0 = 2 * np.random.random((3, 4)) - 1\n",
    "weights_1 = 2 * np.random.random((4, 1)) - 1\n",
    "\n",
    "# Прямое распространение\n",
    "for i in range(10000):\n",
    "    layer_0 = X\n",
    "    layer_1 = sigmoid(np.dot(layer_0, weights_0))\n",
    "    layer_2 = sigmoid(np.dot(layer_1, weights_1))\n",
    "\n",
    "    # Ошибка и дельта для последнего слоя\n",
    "    layer_2_error = y - layer_2\n",
    "    layer_2_delta = layer_2_error * (layer_2 * (1 - layer_2))\n",
    "\n",
    "    # Обратное распространение ошибки и вычисление дельты для первого слоя\n",
    "    layer_1_error = layer_2_delta.dot(weights_1.T)\n",
    "    layer_1_delta = layer_1_error * (layer_1 * (1 - layer_1))\n",
    "\n",
    "    # Обновление весов\n",
    "    weights_1 += layer_1.T.dot(layer_2_delta)\n",
    "    weights_0 += layer_0.T.dot(layer_1_delta)\n",
    "\n",
    "print(\"Выходные данные после обучения:\")\n",
    "print(layer_2)\n"
   ]
  },
  {
   "cell_type": "markdown",
   "id": "23c7bf47",
   "metadata": {},
   "source": [
    "В этом коде производится прямое распространение на двухслойной нейронной сети. На каждом слое выполняется умножение входных данных на веса и применение функции активации (в данном случае сигмоида). Затем выполняется обратное распространение ошибки и обновление весов.\n",
    "\n",
    "Важно отметить, что для более сложных моделей и больших наборов данных требуется более сложная процедура обучения и оптимизации."
   ]
  },
  {
   "cell_type": "markdown",
   "id": "31d7689a",
   "metadata": {},
   "source": [
    "Обратное распространение ошибки (backpropagation) — это алгоритм обучения, применяемый в многослойных нейронных сетях. Этот метод позволяет вычислить градиент функции ошибки относительно весов сети. Главная идея заключается в том, что ошибка, произошедшая на выходном слое, \"распространяется\" обратно по сети и корректирует веса нейронов таким образом, чтобы в дальнейшем уменьшить эту ошибку.\n",
    "\n",
    "Рассмотрим общую схему работы алгоритма:\n",
    "\n",
    "Прямой проход. Во время прямого прохода сеть получает на вход вектор признаков и производит расчет выходных значений. Это делается путем применения взвешенной суммы на каждом слое сети, а затем применения функции активации.\n",
    "\n",
    "Вычисление ошибки. После того, как был выполнен прямой проход и получены предсказания сети, можно вычислить ошибку. Обычно для этого используется функция потерь, такая как среднеквадратичная ошибка (MSE) или бинарная кросс-энтропия. Это значение ошибки будет использоваться для корректировки весов сети.\n",
    "\n",
    "Обратный проход. Во время обратного прохода вычисляется градиент функции ошибки по отношению к каждому весу в сети. Суть заключается в том, чтобы понять, насколько каждый вес влияет на общую ошибку. Это делается путем применения цепного правила дифференцирования.\n",
    "\n",
    "Обновление весов. Наконец, после того как были вычислены градиенты, веса сети обновляются в направлении антиградиента. Это делается для минимизации функции потерь.\n",
    "\n",
    "Важно помнить, что обратное распространение ошибки — это лишь одна часть общего процесса обучения нейронной сети, который также включает в себя прямое распространение, выбор функции потерь и метода оптимизации."
   ]
  },
  {
   "cell_type": "markdown",
   "id": "66d57587",
   "metadata": {},
   "source": [
    "Обратное распространение ошибки включает в себя следующие шаги:\n",
    "\n",
    "Прямое распространение (forward propagation): При этом шаге сеть проходит через каждый слой, начиная с входного слоя и заканчивая выходным слоем. Входные данные подаются в сеть, и на каждом слое вычисляются промежуточные выходы на основе входных данных, весов и функции активации."
   ]
  },
  {
   "cell_type": "code",
   "execution_count": 7,
   "id": "9dd8c731",
   "metadata": {
    "ExecuteTime": {
     "end_time": "2023-07-25T12:10:55.837476Z",
     "start_time": "2023-07-25T12:10:55.833666Z"
    }
   },
   "outputs": [],
   "source": [
    "def forward_propagation(network, row):\n",
    "    inputs = row\n",
    "    for layer in network:\n",
    "        new_inputs = []\n",
    "        for neuron in layer:\n",
    "            activation = activate(neuron['weights'], inputs)\n",
    "            neuron['output'] = transfer(activation)\n",
    "            new_inputs.append(neuron['output'])\n",
    "        inputs = new_inputs\n",
    "    return inputs\n"
   ]
  },
  {
   "cell_type": "markdown",
   "id": "ac46d556",
   "metadata": {},
   "source": [
    "Вычисление ошибки: После того, как сеть прошла через все слои, вычисляется ошибка. Ошибка вычисляется как разница между реальными и предсказанными значениями. Она будет использоваться при обратном распространении.\n",
    "\n",
    "Обратное распространение (backpropagation): В этом шаге начинаем с выходного слоя и двигаемся обратно к входному слою, обновляя веса на основе ошибки, которую мы вычислили."
   ]
  },
  {
   "cell_type": "code",
   "execution_count": 8,
   "id": "68bbc404",
   "metadata": {
    "ExecuteTime": {
     "end_time": "2023-07-25T12:11:11.318145Z",
     "start_time": "2023-07-25T12:11:11.313756Z"
    }
   },
   "outputs": [],
   "source": [
    "def backward_propagate_error(network, expected):\n",
    "    for i in reversed(range(len(network))):\n",
    "        layer = network[i]\n",
    "        errors = list()\n",
    "        if i != len(network)-1:\n",
    "            for j in range(len(layer)):\n",
    "                error = 0.0\n",
    "                for neuron in network[i + 1]:\n",
    "                    error += (neuron['weights'][j] * neuron['delta'])\n",
    "                errors.append(error)\n",
    "        else:\n",
    "            for j in range(len(layer)):\n",
    "                neuron = layer[j]\n",
    "                errors.append(expected[j] - neuron['output'])\n",
    "        for j in range(len(layer)):\n",
    "            neuron = layer[j]\n",
    "            neuron['delta'] = errors[j] * transfer_derivative(neuron['output'])\n"
   ]
  },
  {
   "cell_type": "markdown",
   "id": "f2b16139",
   "metadata": {},
   "source": [
    "Обновление весов: После обратного распространения ошибки веса сети обновляются. Это делается путем вычитания градиента функции ошибки, умноженного на скорость обучения, из текущего веса."
   ]
  },
  {
   "cell_type": "code",
   "execution_count": 9,
   "id": "50585371",
   "metadata": {
    "ExecuteTime": {
     "end_time": "2023-07-25T12:11:28.398089Z",
     "start_time": "2023-07-25T12:11:28.393830Z"
    }
   },
   "outputs": [],
   "source": [
    "def update_weights(network, row, l_rate):\n",
    "    for i in range(len(network)):\n",
    "        inputs = row[:-1]\n",
    "        if i != 0:\n",
    "            inputs = [neuron['output'] for neuron in network[i - 1]]\n",
    "        for neuron in network[i]:\n",
    "            for j in range(len(inputs)):\n",
    "                neuron['weights'][j] += l_rate * neuron['delta'] * inputs[j]\n",
    "            neuron['weights'][-1] += l_rate * neuron['delta']\n"
   ]
  },
  {
   "cell_type": "markdown",
   "id": "5df162c3",
   "metadata": {},
   "source": [
    "Пожалуйста, обратите внимание, что этот код предназначен для примера и может требовать модификации в зависимости от ваших конкретных нужд"
   ]
  },
  {
   "cell_type": "markdown",
   "id": "c44f9198",
   "metadata": {},
   "source": [
    "Процесс обучения нейронной сети можно формулировать математически следующим образом:\n",
    "\n",
    "Прямое распространение (forward propagation): Для каждого слоя в сети, вычисляются промежуточные выходы. Для каждого нейрона, входные значения (x) умножаются на веса (w) и суммируются. К этой сумме прибавляется смещение (b) и затем применяется функция активации (f). Это можно представить формулой:\n",
    "\n",
    "y = f(∑(w_i * x_i) + b)\n",
    "\n",
    "где x_i - входное значение, w_i - вес, b - смещение, а f - функция активации.\n",
    "\n",
    "Вычисление ошибки: После получения предсказания сети, вычисляется ошибка. Ошибка - это разница между истинными и предсказанными значениями. Одним из распространенных способов вычисления ошибки является среднеквадратическая ошибка (MSE):\n",
    "\n",
    "E = 1/2 * ∑(y_true - y_pred)^2\n",
    "\n",
    "где y_true - истинные значения, y_pred - предсказанные значения, а ∑ означает сумму по всем выходам.\n",
    "\n",
    "Обратное распространение ошибки (backpropagation): Этот шаг обновляет веса в обратном порядке, начиная от выходного слоя к входному. Обновление весов происходит с использованием градиента функции ошибки в отношении весов. Градиент вычисляется как производная функции ошибки по весам, умноженная на производную функции активации:\n",
    "\n",
    "∆w = -η * ∂E/∂w = -η * (y_true - y_pred) * f'(∑(w_i * x_i) + b) * x\n",
    "\n",
    "где η - это скорость обучения, f' - это производная функции активации, а остальные переменные такие же, как описано выше.\n",
    "\n",
    "Обновление весов: Веса обновляются по следующей формуле:\n",
    "\n",
    "w_new = w_old + ∆w\n",
    "\n",
    "Пожалуйста, обратите внимание, что эти формулы являются упрощенными и могут варьироваться в зависимости от конкретной архитектуры нейронной сети и используемых функций активации и ошибок."
   ]
  },
  {
   "cell_type": "markdown",
   "id": "36dd882a",
   "metadata": {},
   "source": [
    "Смещение (Bias) и разброс (Variance) являются двумя ключевыми компонентами ошибки обобщения в контексте машинного обучения, и они имеют прямое отношение к проблемам переобучения и недообучения.\n",
    "\n",
    "Смещение (Bias) относится к ошибке, которая возникает из-за неправильных предположений в алгоритме обучения. Высокое смещение может вызвать недообучение (underfitting), что означает, что модель слишком проста и не может обобщить тренды в данных. Это может быть следствием того, что модель не учитывает все доступные признаки или не учитывает их взаимодействия.\n",
    "\n",
    "Разброс (Variance) относится к ошибке, которая возникает из-за чувствительности модели к небольшим колебаниям в обучающем наборе. Высокий разброс может вызвать переобучение (overfitting), что означает, что модель слишком сложна и \"подгоняется\" под шум в данных, а не под общие тренды. Это может быть результатом слишком большого количества признаков или слишком сложной модели.\n",
    "\n",
    "Важно найти баланс между смещением и разбросом. Если модель слишком проста, она может иметь высокое смещение и низкий разброс, что приводит к недообучению. Если модель слишком сложна, она может иметь низкое смещение и высокий разброс, что приводит к переобучению. Оптимальная модель находится где-то посередине, с балансом между смещением и разбросом."
   ]
  },
  {
   "cell_type": "markdown",
   "id": "bde0b7d1",
   "metadata": {},
   "source": [
    "Дилемма смещения-разброса в машинном обучении относится к трудности в достижении низкого смещения и низкого разброса одновременно. Это известно как \"trade-off\" или компромисс между смещением и разбросом.\n",
    "\n",
    "Смещение - это пространство между прогнозами модели и реальными значениями. Модель с высоким смещением пропускает релевантные отношения между признаками и целевой переменной (сигналом), что ведет к недообучению.\n",
    "\n",
    "С другой стороны, разброс отражает вариативность модели для разных обучающих наборов. Модель с высоким разбросом подстраивается под случайные шумы в обучающих данных, вместо настоящих отношений, ведущих к переобучению.\n",
    "\n",
    "Дилемма заключается в следующем: при увеличении сложности модели для уменьшения смещения, разброс скорее всего возрастет. Наоборот, при упрощении модели для уменьшения разброса, смещение скорее всего возрастет.\n",
    "\n",
    "В этой дилемме идеально найти \"золотую середину\", где общая ошибка (сумма смещения и разброса) минимальна. Это требует тщательной настройки и валидации модели, таких как регуляризация, кросс-валидация и пр."
   ]
  },
  {
   "cell_type": "markdown",
   "id": "befe410b",
   "metadata": {},
   "source": [
    "Переобучение и недообучение — это две проблемы, с которыми сталкиваются исследователи в области машинного обучения и нейронных сетей. Ниже приведены несколько стратегий, которые помогают бороться с этими проблемами.\n",
    "\n",
    "Регуляризация: Этот метод добавляет штраф к весам нейронной сети для ограничения ее сложности и предотвращения переобучения. L1 и L2 — это два наиболее часто используемых типа регуляризации.\n",
    "\n",
    "Dropout: Этот метод случайным образом \"отключает\" некоторые нейроны во время обучения, что помогает предотвратить переобучение. Это делает модель менее уверенной в своих прогнозах и принуждает ее учиться более обобщенным путем.\n",
    "\n",
    "Увеличение набора данных (Data augmentation): Этот метод создает дополнительные тренировочные данные путем внесения случайных изменений в существующие образцы. Это может включать в себя повороты, масштабирование, отражение и т.д. Это увеличивает количество данных и помогает предотвратить переобучение.\n",
    "\n",
    "Ранняя остановка (Early stopping): Во время обучения модели мы можем отслеживать производительность модели на отдельном валидационном наборе данных. Как только производительность начинает ухудшаться, мы прекращаем обучение. Это помогает предотвратить переобучение.\n",
    "\n",
    "Увеличение модели: Если модель недообучается, одним из способов улучшения ее производительности может быть увеличение сложности модели, например, добавление дополнительных слоев или нейронов в существующие слои.\n",
    "\n",
    "Изменение скорости обучения: Иногда недообучение может быть вызвано тем, что скорость обучения слишком высока, и модель \"пропускает\" минимумы. Попробуйте уменьшить скорость обучения.\n",
    "\n",
    "Батч-нормализация (Batch Normalization): Это техника позволяет ускорить обучение и делает его более стабильным, нормализуя входы в каждом слое таким образом, чтобы они имели среднее значение равное нулю и стандартное отклонение равное одному.\n",
    "\n",
    "Это далеко не все методы, но они являются наиболее популярными и часто используемыми."
   ]
  },
  {
   "cell_type": "markdown",
   "id": "32d9ca6c",
   "metadata": {},
   "source": [
    "Кривые обучения - это графическое представление изменения ошибки обучения и ошибки валидации в процессе обучения. По вертикальной оси откладывается значение ошибки, а по горизонтальной - количество эпох или размер обучающего набора. Кривые обучения могут быть весьма полезными при оценке работы алгоритма и определении, является ли модель переобученной или недообученной.\n",
    "\n",
    "Если кривые обучения близко друг к другу и обе имеют высокую ошибку, это может указывать на недообучение. Это означает, что ваша модель слишком проста или не достаточно обучена, чтобы адекватно представить все нюансы данных.\n",
    "\n",
    "Если кривая обучения имеет низкую ошибку на тренировочных данных, но высокую ошибку на валидационных данных, это, вероятно, свидетельствует о переобучении. Такое происходит, когда модель слишком сложна и начинает запоминать шум в данных вместо общих закономерностей.\n",
    "\n",
    "Кривые обучения также могут показать эффект от размера обучающей выборки. Если увеличение размера обучающего набора ведет к улучшению ошибки на валидационных данных, то, вероятно, имеет смысл собрать больше данных.\n",
    "\n",
    "В общем, кривые обучения могут дать нам глубокое понимание того, как алгоритм обучается и какие дальнейшие шаги могут помочь улучшить его производительность."
   ]
  },
  {
   "cell_type": "markdown",
   "id": "3c768ecb",
   "metadata": {},
   "source": [
    "Как построить кривые обучения?\n",
    "\n",
    "Построение кривых обучения обычно включает в себя следующие шаги:\n",
    "\n",
    "Выберите метрику ошибки, которую вы хотите отслеживать. Это может быть, например, средняя квадратичная ошибка для задач регрессии или потеря перекрестной энтропии для задач классификации.\n",
    "\n",
    "Постепенно увеличивайте размер обучающего набора данных. Например, вы можете начать с обучения модели на 10% ваших данных, затем 20%, и так далее, до 100%.\n",
    "\n",
    "Для каждого размера обучающего набора обучите модель и замерьте ошибку на обучающих и валидационных данных.\n",
    "\n",
    "Постройте график, где по оси X отложен размер обучающего набора (или количество эпох), а по оси Y — ошибка. На этом графике должны быть две кривые: одна для ошибки обучения и одна для ошибки валидации.\n",
    "\n",
    "Как интерпретировать кривые обучения?\n",
    "\n",
    "Когда вы построите кривые обучения, вы сможете наблюдать одно из следующих состояний:\n",
    "\n",
    "Недообучение (Underfitting): Если ошибка обучения и ошибка валидации обе высоки и находятся примерно на одном уровне, то скорее всего модель недообучена. Это означает, что модель слишком простая и не может адекватно отражать зависимости в данных.\n",
    "\n",
    "Переобучение (Overfitting): Если ошибка обучения низкая, но ошибка валидации высокая и есть большой разрыв между этими кривыми, то скорее всего модель переобучена. Это означает, что модель слишком сложная и начинает \"запоминать\" обучающие данные, вместо того чтобы \"обучаться\" на них.\n",
    "\n",
    "Оптимальное состояние: Если ошибка обучения и ошибка валидации находятся на приемлемом уровне, и разрыв между ними невелик, это говорит о том, что модель обучена хорошо.\n",
    "\n",
    "Однако стоит отметить, что \"приемлемый уровень\" ошибки в значительной степени зависит от конкретной задачи и доступных данных."
   ]
  },
  {
   "cell_type": "markdown",
   "id": "af46f8cc",
   "metadata": {},
   "source": [
    "Кривые обучения могут быть очень полезными инструментами при настройке гиперпараметров модели. Они позволяют наблюдать, как меняется ошибка на тренировочных и валидационных данных при изменении различных гиперпараметров, и делать на основе этого выводы о том, какой набор параметров является оптимальным.\n",
    "\n",
    "Вот несколько примеров использования кривых обучения:\n",
    "\n",
    "Настройка размера обучающей выборки. Кривые обучения могут показать, есть ли смысл в сборе дополнительных данных. Если ошибка на валидации продолжает уменьшаться с увеличением размера обучающей выборки, это может быть индикатором того, что дополнительные данные помогут улучшить модель. Если же ошибка на валидации стабилизируется, дополнительные данные могут не приносить значительного улучшения.\n",
    "\n",
    "Настройка скорости обучения. Модели слишком высокой скорости обучения могут \"перепрыгивать\" оптимум, в то время как модели слишком низкой скорости обучения могут обучаться слишком медленно. Кривые обучения могут помочь найти подходящую скорость обучения, позволяя наблюдать, как быстро модель сходится к минимуму.\n",
    "\n",
    "Настройка сложности модели (например, количество слоев в нейронной сети или глубина дерева в случае деревьев решений). Кривые обучения могут показать, ведет ли увеличение сложности модели к улучшению производительности или, наоборот, к переобучению.\n",
    "\n",
    "Настройка регуляризации. Регуляризация — это метод, который помогает предотвратить переобучение, добавляя штраф за сложность модели. С помощью кривых обучения можно найти оптимальное значение параметра регуляризации.\n",
    "\n",
    "В каждом из этих случаев важно помнить, что кривые обучения — это лишь один из инструментов анализа модели. Для получения наиболее точной оценки производительности модели также важно использовать другие методы, такие как кросс-валидация или использование отложенной выборки."
   ]
  },
  {
   "cell_type": "markdown",
   "id": "09d397e7",
   "metadata": {},
   "source": [
    "Ниже представлены примеры использования кривых обучения для настройки гиперпараметров нейронной сети, используя библиотеку sklearn и matplotlib в Python.\n",
    "\n",
    "Пример 1. Настройка скорости обучения (learning rate):"
   ]
  },
  {
   "cell_type": "markdown",
   "id": "991393e7",
   "metadata": {
    "ExecuteTime": {
     "end_time": "2023-07-25T12:14:13.647068Z",
     "start_time": "2023-07-25T12:14:13.529285Z"
    }
   },
   "source": [
    "``` python \n",
    "from sklearn.model_selection import learning_curve\n",
    "from sklearn.neural_network import MLPClassifier\n",
    "import matplotlib.pyplot as plt\n",
    "import numpy as np\n",
    "\n",
    "# создаем нейронную сеть с различными скоростями обучения\n",
    "learning_rates = [0.01, 0.05, 0.1, 0.5]\n",
    "\n",
    "plt.figure(figsize=(10, 6))\n",
    "\n",
    "for lr in learning_rates:\n",
    "    nn = MLPClassifier(learning_rate_init=lr)\n",
    "\n",
    "    train_sizes, train_scores, valid_scores = learning_curve(nn, X, y, cv=3)\n",
    "\n",
    "    # усреднение по оси cv фолдов\n",
    "    train_scores_mean = np.mean(train_scores, axis=1)\n",
    "    valid_scores_mean = np.mean(valid_scores, axis=1)\n",
    "\n",
    "    plt.plot(train_sizes, train_scores_mean, label = 'Training error for lr={}'.format(lr))\n",
    "    plt.plot(train_sizes, valid_scores_mean, label = 'Validation error for lr={}'.format(lr))\n",
    "\n",
    "plt.ylabel('Error')\n",
    "plt.xlabel('Training set size')\n",
    "plt.title('Learning curves for a neural network model')\n",
    "plt.legend()\n",
    "plt.show()\n",
    "```"
   ]
  },
  {
   "cell_type": "markdown",
   "id": "07b51568",
   "metadata": {},
   "source": [
    "В этом примере, кривые обучения строятся для нейронной сети с разными скоростями обучения. По получившемуся графику можно увидеть, как изменение скорости обучения влияет на ошибку на тренировочных и валидационных данных, и выбрать наиболее подходящую скорость обучения.\n",
    "\n",
    "Пример 2. Настройка сложности модели (количество слоев в нейронной сети):"
   ]
  },
  {
   "cell_type": "markdown",
   "id": "8e2d34df",
   "metadata": {
    "ExecuteTime": {
     "end_time": "2023-07-25T12:15:57.334117Z",
     "start_time": "2023-07-25T12:15:57.329573Z"
    }
   },
   "source": [
    "```python\n",
    "# создаем нейронную сеть с различным количеством слоев\n",
    "layer_sizes = [(10,), (20,), (30,), (40,), (50,)]\n",
    "\n",
    "plt.figure(figsize=(10, 6))\n",
    "\n",
    "for size in layer_sizes:\n",
    "    nn = MLPClassifier(hidden_layer_sizes=size)\n",
    "\n",
    "    train_sizes, train_scores, valid_scores = learning_curve(nn, X, y, cv=5)\n",
    "\n",
    "    # усреднение по оси cv фолдов\n",
    "    train_scores_mean = np.mean(train_scores, axis=1)\n",
    "    valid_scores_mean = np.mean(valid_scores, axis=1)\n",
    "\n",
    "    plt.plot(train_sizes, train_scores_mean, label = 'Training error for size={}'.format(size))\n",
    "    plt.plot(train_sizes, valid_scores_mean, label = 'Validation error for size={}'.format(size))\n",
    "\n",
    "plt.ylabel('Error')\n",
    "plt.xlabel('Training set size')\n",
    "plt.title('Learning curves for a neural network model')\n",
    "plt.legend()\n",
    "plt.show()\n",
    "```\n"
   ]
  },
  {
   "cell_type": "markdown",
   "id": "a57864a3",
   "metadata": {
    "ExecuteTime": {
     "end_time": "2023-07-25T12:16:28.254318Z",
     "start_time": "2023-07-25T12:16:28.249578Z"
    }
   },
   "source": [
    "В этом примере, кривые обучения строятся для нейронной сети с разным количеством скрытых слоев. По получившемуся графику можно увидеть, как изменение сложности модели влияет на ошибку на тренировочных и валидационных данных, и выбрать оптимальную сложность модели.\n",
    "\n",
    "В каждом из этих примеров, лучшим будет считаться тот гиперпараметр, при котором минимальна ошибка на валидационных данных и при этом разница между ошибками на тренировочных и валидационных данных не слишком велика."
   ]
  },
  {
   "cell_type": "markdown",
   "id": "a5f0f88c",
   "metadata": {},
   "source": [
    "Основные метрики оценки для задач классификации включают:\n",
    "\n",
    "Точность (Accuracy): Это самый простой и понятный способ измерения эффективности модели классификации. Точность равна количеству верно классифицированных экземпляров, делённому на общее количество экземпляров.\n",
    "\n",
    "Точность (Precision): Точность равна количеству верно положительных примеров, делённому на общее количество экземпляров, классифицированных как положительные.\n",
    "\n",
    "Полнота (Recall) или чувствительность (Sensitivity): Полнота равна количеству верно положительных примеров, делённому на общее количество реально положительных примеров.\n",
    "\n",
    "F1-мера (F1-score): F1-мера является средним гармоническим между точностью и полнотой. Она стремится найти баланс между этими двумя метриками и может быть очень полезной, если у вас есть несбалансированный набор данных.\n",
    "\n",
    "AUC-ROC (Area Under the Receiver Operating Characteristics curve): AUC-ROC является мерой того, насколько хорошо модель может отличать разные классы. Он измеряет площадь под ROC-кривой. ROC-кривая строится на основе различных пороговых значений и показывает соотношение между истинно положительной частотой (TPR) и ложно положительной частотой (FPR).\n",
    "\n",
    "Кросс-энтропия (Log loss): Кросс-энтропия - это функция потерь, используемая в бинарной логистической регрессии и других моделях, которые используются для бинарной классификации. Эта метрика измеряет, насколько близки вероятности, предсказанные моделью, к фактическим классам.\n",
    "\n",
    "Все эти метрики могут быть полезными в разных контекстах, и важно понимать их сильные и слабые стороны."
   ]
  },
  {
   "cell_type": "markdown",
   "id": "50036d28",
   "metadata": {},
   "source": [
    "Давайте обсудим основные метрики оценки для задач классификации и рассмотрим их формулы и реализацию в Python с помощью Numpy и Scikit-Learn:\n",
    "\n",
    "- ### Точность (Accuracy):\n",
    "Формула:\n",
    "Accuracy = (TP + TN) / (TP + TN + FP + FN)\n",
    "\n",
    "где TP - истинно-положительные, TN - истинно-отрицательные, FP - ложно-положительные, FN - ложно-отрицательные.\n",
    "\n",
    "Реализация в Scikit-Learn:"
   ]
  },
  {
   "cell_type": "markdown",
   "id": "f8aa10f6",
   "metadata": {
    "ExecuteTime": {
     "end_time": "2023-07-25T12:17:05.637835Z",
     "start_time": "2023-07-25T12:17:05.624319Z"
    }
   },
   "source": [
    "``` python \n",
    "from sklearn.metrics import accuracy_score\n",
    "accuracy = accuracy_score(y_true, y_pred)\n",
    "```"
   ]
  },
  {
   "cell_type": "markdown",
   "id": "be676f6b",
   "metadata": {},
   "source": [
    "- ### Точность (Precision):\n",
    "\n",
    "Формула:\n",
    "Precision = TP / (TP + FP)\n",
    "\n",
    "Реализация в Scikit-Learn:"
   ]
  },
  {
   "cell_type": "markdown",
   "id": "1d2f5776",
   "metadata": {},
   "source": [
    "- ### Полнота (Recall) или Чувствительность (Sensitivity):\n",
    "Формула:\n",
    "Recall = TP / (TP + FN)\n",
    "\n",
    "Реализация в Scikit-Learn:"
   ]
  },
  {
   "cell_type": "markdown",
   "id": "e5b2d2ba",
   "metadata": {
    "ExecuteTime": {
     "end_time": "2023-07-25T12:19:19.134343Z",
     "start_time": "2023-07-25T12:19:19.120274Z"
    }
   },
   "source": [
    "``` python \n",
    "from sklearn.metrics import recall_score\n",
    "recall = recall_score(y_true, y_pred)\n",
    "```\n"
   ]
  },
  {
   "cell_type": "markdown",
   "id": "11e626e1",
   "metadata": {
    "ExecuteTime": {
     "end_time": "2023-07-25T12:20:02.764384Z",
     "start_time": "2023-07-25T12:20:02.760699Z"
    }
   },
   "source": [
    "- ### F1-мера (F1-score):\n",
    "Формула:\n",
    "F1 = 2 * (Precision * Recall) / (Precision + Recall)\n",
    "\n",
    "Реализация в Scikit-Learn:"
   ]
  },
  {
   "cell_type": "markdown",
   "id": "e072ff7c",
   "metadata": {
    "ExecuteTime": {
     "end_time": "2023-07-25T12:20:35.420174Z",
     "start_time": "2023-07-25T12:20:35.415670Z"
    }
   },
   "source": [
    "``` python\n",
    "from sklearn.metrics import f1_score\n",
    "f1 = f1_score(y_true, y_pred)\n",
    "```\n"
   ]
  },
  {
   "cell_type": "markdown",
   "id": "6d76ff12",
   "metadata": {},
   "source": [
    "- ### AUC-ROC (Area Under the Receiver Operating Characteristics curve):\n",
    "AUC-ROC не может быть вычислена напрямую из формулы, но в Scikit-Learn есть удобные функции для этого.\n",
    "\n",
    "Реализация в Scikit-Learn:"
   ]
  },
  {
   "cell_type": "markdown",
   "id": "21d885f2",
   "metadata": {
    "ExecuteTime": {
     "end_time": "2023-07-25T12:21:15.971308Z",
     "start_time": "2023-07-25T12:21:15.967324Z"
    }
   },
   "source": [
    "``` python\n",
    "from sklearn.metrics import roc_auc_score\n",
    "roc_auc = roc_auc_score(y_true, y_scores)  # y_scores - вероятности классов, предсказанные классификатором\n",
    "```"
   ]
  },
  {
   "cell_type": "markdown",
   "id": "162f16ce",
   "metadata": {
    "ExecuteTime": {
     "end_time": "2023-07-25T12:21:36.212602Z",
     "start_time": "2023-07-25T12:21:36.208416Z"
    }
   },
   "source": [
    "- ### Кросс-энтропия (Log Loss):\n",
    "Формула:\n",
    "Log Loss = -1 * (y_true * log(y_pred) + (1 - y_true) * log(1 - y_pred))\n",
    "\n",
    "где y_true - истинные классы, y_pred - предсказанные вероятности классов.\n",
    "\n",
    "Реализация в Scikit-Learn:"
   ]
  },
  {
   "cell_type": "markdown",
   "id": "c4d3bfd2",
   "metadata": {},
   "source": [
    "``` python from sklearn.metrics import log_loss\n",
    "loss = log_loss(y_true, y_pred_proba)  # y_pred_proba - вероятности классов, предсказанные классификатором\n",
    "```"
   ]
  },
  {
   "cell_type": "markdown",
   "id": "40a65738",
   "metadata": {},
   "source": [
    "Для вычисления этих метрик сначала нужно обучить модель на тренировочных данных и сделать прогнозы на тестовых данных. y_true - это истинные метки классов для тестового набора данных, а y_pred - это метки классов, предсказанные моделью на тестовых данных."
   ]
  },
  {
   "cell_type": "markdown",
   "id": "23f6416a",
   "metadata": {
    "ExecuteTime": {
     "end_time": "2023-07-25T12:22:32.477664Z",
     "start_time": "2023-07-25T12:22:32.472248Z"
    }
   },
   "source": [
    "Давайте рассмотрим основные метрики оценки для задач регрессии:\n",
    "\n",
    "- ### Среднеквадратичная ошибка (Mean Squared Error, MSE):\n",
    "Формула:\n",
    "MSE = 1/n * Σ(actual - prediction)^2\n",
    "\n",
    "где n - количество наблюдений, actual - реальные значения, prediction - предсказанные значения.\n",
    "\n",
    "Реализация в Scikit-Learn:"
   ]
  },
  {
   "cell_type": "markdown",
   "id": "72433e8c",
   "metadata": {
    "ExecuteTime": {
     "end_time": "2023-07-25T12:22:52.531622Z",
     "start_time": "2023-07-25T12:22:52.527555Z"
    },
    "run_control": {
     "marked": false
    }
   },
   "source": [
    "``` python \n",
    "from sklearn.metrics import mean_squared_error\n",
    "mse = mean_squared_error(y_true, y_pred)\n",
    "```"
   ]
  },
  {
   "cell_type": "markdown",
   "id": "10544221",
   "metadata": {
    "ExecuteTime": {
     "end_time": "2023-07-25T12:23:10.995375Z",
     "start_time": "2023-07-25T12:23:10.991597Z"
    }
   },
   "source": [
    "- ### Средняя абсолютная ошибка (Mean Absolute Error, MAE):\n",
    "Формула:\n",
    "MAE = 1/n * Σ|actual - prediction|\n",
    "\n",
    "Реализация в Scikit-Learn:"
   ]
  },
  {
   "cell_type": "markdown",
   "id": "d3f13553",
   "metadata": {
    "ExecuteTime": {
     "end_time": "2023-07-25T12:23:33.188582Z",
     "start_time": "2023-07-25T12:23:33.185063Z"
    }
   },
   "source": [
    "``` python \n",
    "from sklearn.metrics import mean_absolute_error\n",
    "mae = mean_absolute_error(y_true, y_pred)\n",
    "```\n"
   ]
  },
  {
   "cell_type": "markdown",
   "id": "84816812",
   "metadata": {},
   "source": [
    "- ### Корень из среднеквадратичной ошибки (Root Mean Squared Error, RMSE):\n",
    "Формула:\n",
    "RMSE = sqrt(MSE)\n",
    "\n",
    "Реализация в Python с использованием Scikit-Learn и Numpy:"
   ]
  },
  {
   "cell_type": "markdown",
   "id": "d10fa720",
   "metadata": {
    "ExecuteTime": {
     "end_time": "2023-07-25T12:24:15.585779Z",
     "start_time": "2023-07-25T12:24:15.581281Z"
    }
   },
   "source": [
    "```python \n",
    "import numpy as np\n",
    "from sklearn.metrics import mean_squared_error\n",
    "rmse = np.sqrt(mean_squared_error(y_true, y_pred))\n",
    "```"
   ]
  },
  {
   "cell_type": "markdown",
   "id": "5effca4d",
   "metadata": {
    "ExecuteTime": {
     "end_time": "2023-07-25T12:25:05.403804Z",
     "start_time": "2023-07-25T12:25:05.399398Z"
    }
   },
   "source": [
    "- ### Коэффициент детерминации R^2 (R-squared):\n",
    "Формула:\n",
    "R^2 = 1 - (Σ(actual - prediction)^2) / (Σ(actual - mean(actual))^2)\n",
    "\n",
    "где mean(actual) - среднее значение реальных значений.\n",
    "\n",
    "Реализация в Scikit-Learn:"
   ]
  },
  {
   "cell_type": "markdown",
   "id": "a09a1402",
   "metadata": {},
   "source": [
    "``` python\n",
    "from sklearn.metrics import r2_score\n",
    "r2 = r2_score(y_true, y_pred)\n",
    "\n",
    "import numpy as np\n",
    "ss_res = np.sum((y_true - y_pred) ** 2)\n",
    "ss_tot = np.sum((y_true - np.mean(y_true)) ** 2)\n",
    "r2 = 1 - (ss_res / ss_tot)\n",
    "\n",
    "\n",
    "```"
   ]
  },
  {
   "cell_type": "markdown",
   "id": "82ba2024",
   "metadata": {},
   "source": [
    "ип задачи: Ваш выбор метрики зависит от того, занимаетесь ли вы классификацией, регрессией или ранжированием. Для классификации обычно используются метрики, такие как accuracy, precision, recall, F1 score и AUC-ROC. Для регрессии обычно используются метрики, такие как MSE, RMSE, MAE и R^2.\n",
    "\n",
    "Цель модели: Цель вашей модели может повлиять на выбор метрики. Если вы заботитесь о предсказании как можно более точных значений, то MSE или RMSE могут быть лучшим выбором. Если вам важнее предсказать направление изменения, а не абсолютные значения, то MAE может быть лучшим выбором.\n",
    "\n",
    "Наличие несбалансированных классов: Если у вас есть несбалансированные классы в задаче классификации, метрики, такие как accuracy, могут быть введены в заблуждение, потому что они могут высоко оценивать модель, которая просто предсказывает большинство классов. В таких случаях precision, recall или F1 score могут быть более информативными.\n",
    "\n",
    "Зависимость от ошибок: Если ваши ошибки имеют различное значение (например, false positives стоят дороже, чем false negatives), вы должны выбрать метрику, которая отражает это. Precision и recall важны в таких ситуациях. В других случаях, вам может потребоваться создать собственную метрику оценки, которая учитывает стоимость различных видов ошибок.\n",
    "\n",
    "Бизнес-метрики: В конечном итоге, важно убедиться, что ваша метрика оценки коррелирует с бизнес-метриками, которые вы пытаетесь улучшить. Например, если вы работаете над системой рекомендаций, то вам, вероятно, будет важнее увеличить клики на рекомендации, чем точность прогнозирования."
   ]
  },
  {
   "cell_type": "markdown",
   "id": "285fb0bf",
   "metadata": {},
   "source": [
    "Задание: Реализуем и обучим простую нейронную сеть для классификации изображений одежды из набора данных Fashion MNIST, используя Python и библиотеку Keras."
   ]
  },
  {
   "cell_type": "code",
   "execution_count": 10,
   "id": "cfd3e148",
   "metadata": {
    "ExecuteTime": {
     "end_time": "2023-07-25T12:47:50.814774Z",
     "start_time": "2023-07-25T12:47:50.811773Z"
    },
    "run_control": {
     "marked": true
    }
   },
   "outputs": [],
   "source": [
    "# !conda install -c conda-forge cudatoolkit cudnn"
   ]
  },
  {
   "cell_type": "code",
   "execution_count": 11,
   "id": "a809c815",
   "metadata": {
    "ExecuteTime": {
     "end_time": "2023-07-25T13:00:19.444022Z",
     "start_time": "2023-07-25T13:00:19.441616Z"
    }
   },
   "outputs": [],
   "source": [
    "# !pip install \"tensorflow\""
   ]
  },
  {
   "cell_type": "code",
   "execution_count": 12,
   "id": "a74ddadc",
   "metadata": {
    "ExecuteTime": {
     "end_time": "2023-07-25T12:48:01.396724Z",
     "start_time": "2023-07-25T12:48:01.378190Z"
    }
   },
   "outputs": [
    {
     "name": "stdout",
     "output_type": "stream",
     "text": [
      "[]\n"
     ]
    }
   ],
   "source": [
    "import tensorflow as tf;\n",
    "print(tf.config.list_physical_devices('GPU'))"
   ]
  },
  {
   "cell_type": "code",
   "execution_count": 13,
   "id": "793f6db7",
   "metadata": {
    "ExecuteTime": {
     "end_time": "2023-07-25T12:29:54.863920Z",
     "start_time": "2023-07-25T12:29:54.847013Z"
    }
   },
   "outputs": [
    {
     "name": "stdout",
     "output_type": "stream",
     "text": [
      "Epoch 1/10\n",
      "1875/1875 [==============================] - 3s 1ms/step - loss: 0.5029 - accuracy: 0.8236\n",
      "Epoch 2/10\n",
      "1875/1875 [==============================] - 3s 1ms/step - loss: 0.3789 - accuracy: 0.8630\n",
      "Epoch 3/10\n",
      "1875/1875 [==============================] - 3s 1ms/step - loss: 0.3386 - accuracy: 0.8757\n",
      "Epoch 4/10\n",
      "1875/1875 [==============================] - 3s 1ms/step - loss: 0.3136 - accuracy: 0.8854\n",
      "Epoch 5/10\n",
      "1875/1875 [==============================] - 3s 1ms/step - loss: 0.2946 - accuracy: 0.8918\n",
      "Epoch 6/10\n",
      "1875/1875 [==============================] - 3s 1ms/step - loss: 0.2808 - accuracy: 0.8965\n",
      "Epoch 7/10\n",
      "1875/1875 [==============================] - 3s 1ms/step - loss: 0.2692 - accuracy: 0.9006\n",
      "Epoch 8/10\n",
      "1875/1875 [==============================] - 3s 1ms/step - loss: 0.2605 - accuracy: 0.9035\n",
      "Epoch 9/10\n",
      "1875/1875 [==============================] - 3s 1ms/step - loss: 0.2509 - accuracy: 0.9065\n",
      "Epoch 10/10\n",
      "1875/1875 [==============================] - 3s 1ms/step - loss: 0.2409 - accuracy: 0.9095\n",
      "313/313 - 0s - loss: 0.3459 - accuracy: 0.8793 - 397ms/epoch - 1ms/step\n",
      "\n",
      "Тестовая точность: 0.8792999982833862\n"
     ]
    }
   ],
   "source": [
    "# Импортируем необходимые библиотеки\n",
    "import tensorflow as tf\n",
    "from tensorflow import keras\n",
    "import matplotlib.pyplot as plt\n",
    "\n",
    "# Загрузим данные\n",
    "fashion_mnist = keras.datasets.fashion_mnist\n",
    "(train_images, train_labels), (test_images, test_labels) = fashion_mnist.load_data()\n",
    "\n",
    "# Нормализуем данные\n",
    "train_images = train_images / 255.0\n",
    "test_images = test_images / 255.0\n",
    "\n",
    "# Создаем модель\n",
    "model = keras.Sequential([\n",
    "    keras.layers.Flatten(input_shape=(28, 28)),\n",
    "    keras.layers.Dense(128, activation='relu'),\n",
    "    keras.layers.Dense(10)\n",
    "])\n",
    "\n",
    "# Компилируем модель\n",
    "model.compile(optimizer='adam',\n",
    "              loss=tf.keras.losses.SparseCategoricalCrossentropy(from_logits=True),\n",
    "              metrics=['accuracy'])\n",
    "\n",
    "# Обучаем модель\n",
    "model.fit(train_images, train_labels, epochs=10)\n",
    "\n",
    "# Оценим точность модели\n",
    "test_loss, test_acc = model.evaluate(test_images,  test_labels, verbose=2)\n",
    "print('\\nТестовая точность:', test_acc)\n"
   ]
  },
  {
   "cell_type": "markdown",
   "id": "3cc4b79c",
   "metadata": {},
   "source": [
    "- Измените количество нейронов в скрытом слое и сравните результаты.\n",
    "- Попробуйте добавить дополнительный скрытый слой и сравните результаты.\n",
    "- Измените функцию активации скрытого слоя на sigmoid и сравните результаты.\n",
    "- Используйте оптимизатор RMSprop вместо Adam и сравните результаты.\n",
    "- Измените количество эпох обучения на 5 и сравните результаты.\n",
    "- Используйте dropout для предотвращения переобучения и сравните результаты.\n",
    "- Попробуйте различные виды нормализации, такие как BatchNormalization, и сравните результаты.\n",
    "- Используйте разные виды инициализации весов (например, he_normal или glorot_uniform) и сравните результаты.\n",
    "- Используйте регуляризацию L1 или L2 и сравните результаты.\n",
    "- Попробуйте различные расписания скорости обучения (например, экспоненциальное уменьшение) и сравните результаты."
   ]
  },
  {
   "cell_type": "markdown",
   "id": "ab06cefa-95bd-4ae9-b5e7-eca3238d5143",
   "metadata": {
    "ExecuteTime": {
     "end_time": "2023-07-25T12:36:53.424681Z",
     "start_time": "2023-07-25T12:36:53.417904Z"
    }
   },
   "source": [
    "``` python \n",
    "import torch\n",
    "import torch.nn as nn\n",
    "import torchvision\n",
    "import torchvision.transforms as transforms\n",
    "\n",
    "# Загрузка данных\n",
    "train_dataset = torchvision.datasets.MNIST(root='./data', \n",
    "                                           train=True, \n",
    "                                           transform=transforms.ToTensor(),  \n",
    "                                           download=True)\n",
    "\n",
    "test_dataset = torchvision.datasets.MNIST(root='./data', \n",
    "                                          train=False, \n",
    "                                          transform=transforms.ToTensor())\n",
    "\n",
    "# Параметры DataLoader\n",
    "batch_size = 100\n",
    "train_loader = torch.utils.data.DataLoader(dataset=train_dataset, \n",
    "                                           batch_size=batch_size, \n",
    "                                           shuffle=True)\n",
    "\n",
    "test_loader = torch.utils.data.DataLoader(dataset=test_dataset, \n",
    "                                          batch_size=batch_size, \n",
    "                                          shuffle=False)\n",
    "\n",
    "# Определение модели\n",
    "class NeuralNet(nn.Module):\n",
    "    def __init__(self, input_size=784, hidden_size=500, num_classes=10):\n",
    "        super(NeuralNet, self).__init__()\n",
    "        self.fc1 = nn.Linear(input_size, hidden_size) \n",
    "        self.relu = nn.ReLU()\n",
    "        self.fc2 = nn.Linear(hidden_size, num_classes)  \n",
    "    \n",
    "    def forward(self, x):\n",
    "        out = self.fc1(x)\n",
    "        out = self.relu(out)\n",
    "        out = self.fc2(out)\n",
    "        return out\n",
    "\n",
    "model = NeuralNet()\n",
    "\n",
    "# Параметры обучения\n",
    "num_epochs = 5\n",
    "learning_rate = 0.001\n",
    "\n",
    "# Определение функции потерь и оптимизатора\n",
    "criterion = nn.CrossEntropyLoss()\n",
    "optimizer = torch.optim.SGD(model.parameters(), lr=learning_rate)\n",
    "\n",
    "# Обучение модели\n",
    "total_step = len(train_loader)\n",
    "for epoch in range(num_epochs):\n",
    "    for i, (images, labels) in enumerate(train_loader):  \n",
    "        # Перемещение тензоров на конфигурированное устройство\n",
    "        images = images.reshape(-1, 28*28)\n",
    "        \n",
    "        # Прямое распространение\n",
    "        outputs = model(images)\n",
    "        loss = criterion(outputs, labels)\n",
    "        \n",
    "        # Обратное распространение и оптимизатор\n",
    "        optimizer.zero_grad()\n",
    "        loss.backward()\n",
    "        optimizer.step()\n",
    "        \n",
    "    print ('Epoch [{}/{}], Loss: {:.4f}'.format(epoch+1, num_epochs, loss.item()))\n",
    "```"
   ]
  },
  {
   "cell_type": "markdown",
   "id": "d6fe3cc1",
   "metadata": {},
   "source": [
    "Домашнее задание провести эксперименты на Pytorch"
   ]
  },
  {
   "cell_type": "code",
   "execution_count": null,
   "id": "ad28014f",
   "metadata": {},
   "outputs": [],
   "source": []
  },
  {
   "cell_type": "code",
   "execution_count": null,
   "id": "1eeddce9",
   "metadata": {},
   "outputs": [],
   "source": []
  },
  {
   "cell_type": "code",
   "execution_count": null,
   "id": "7554ea70",
   "metadata": {},
   "outputs": [],
   "source": []
  },
  {
   "cell_type": "code",
   "execution_count": null,
   "id": "29926003",
   "metadata": {},
   "outputs": [],
   "source": []
  }
 ],
 "metadata": {
  "kernelspec": {
   "display_name": "Python 3 (ipykernel)",
   "language": "python",
   "name": "python3"
  },
  "language_info": {
   "codemirror_mode": {
    "name": "ipython",
    "version": 3
   },
   "file_extension": ".py",
   "mimetype": "text/x-python",
   "name": "python",
   "nbconvert_exporter": "python",
   "pygments_lexer": "ipython3",
   "version": "3.11.4"
  },
  "nbTranslate": {
   "displayLangs": [
    "*"
   ],
   "hotkey": "alt-t",
   "langInMainMenu": true,
   "sourceLang": "en",
   "targetLang": "fr",
   "useGoogleTranslate": true
  },
  "toc": {
   "base_numbering": 1,
   "nav_menu": {},
   "number_sections": true,
   "sideBar": true,
   "skip_h1_title": true,
   "title_cell": "Table of Contents",
   "title_sidebar": "Contents",
   "toc_cell": true,
   "toc_position": {
    "height": "calc(100% - 180px)",
    "left": "10px",
    "top": "150px",
    "width": "320px"
   },
   "toc_section_display": true,
   "toc_window_display": true
  },
  "varInspector": {
   "cols": {
    "lenName": 16,
    "lenType": 16,
    "lenVar": 40
   },
   "kernels_config": {
    "python": {
     "delete_cmd_postfix": "",
     "delete_cmd_prefix": "del ",
     "library": "var_list.py",
     "varRefreshCmd": "print(var_dic_list())"
    },
    "r": {
     "delete_cmd_postfix": ") ",
     "delete_cmd_prefix": "rm(",
     "library": "var_list.r",
     "varRefreshCmd": "cat(var_dic_list()) "
    }
   },
   "types_to_exclude": [
    "module",
    "function",
    "builtin_function_or_method",
    "instance",
    "_Feature"
   ],
   "window_display": true
  }
 },
 "nbformat": 4,
 "nbformat_minor": 5
}
