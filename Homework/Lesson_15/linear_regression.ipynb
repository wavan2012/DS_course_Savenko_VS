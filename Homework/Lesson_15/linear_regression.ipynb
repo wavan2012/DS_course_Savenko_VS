{
 "cells": [
  {
   "cell_type": "code",
   "execution_count": 12,
   "metadata": {},
   "outputs": [
    {
     "ename": "ValueError",
     "evalue": "shapes (4,) and (5,) not aligned: 4 (dim 0) != 5 (dim 0)",
     "output_type": "error",
     "traceback": [
      "\u001b[1;31m---------------------------------------------------------------------------\u001b[0m",
      "\u001b[1;31mValueError\u001b[0m                                Traceback (most recent call last)",
      "Cell \u001b[1;32mIn[12], line 49\u001b[0m\n\u001b[0;32m     42\u001b[0m X \u001b[39m=\u001b[39m np\u001b[39m.\u001b[39marray([[\u001b[39m2\u001b[39m, \u001b[39m3\u001b[39m, \u001b[39m0\u001b[39m, \u001b[39m5\u001b[39m], \n\u001b[0;32m     43\u001b[0m               [\u001b[39m4\u001b[39m, \u001b[39m-\u001b[39m\u001b[39m3\u001b[39m, \u001b[39m-\u001b[39m\u001b[39m1\u001b[39m, \u001b[39m1\u001b[39m],\n\u001b[0;32m     44\u001b[0m               [\u001b[39m2\u001b[39m, \u001b[39m5\u001b[39m, \u001b[39m1\u001b[39m, \u001b[39m3\u001b[39m],\n\u001b[0;32m     45\u001b[0m               [\u001b[39m2\u001b[39m, \u001b[39m7\u001b[39m, \u001b[39m2\u001b[39m, \u001b[39m-\u001b[39m\u001b[39m2\u001b[39m]])\n\u001b[0;32m     47\u001b[0m y \u001b[39m=\u001b[39m np\u001b[39m.\u001b[39marray([\u001b[39m2\u001b[39m, \u001b[39m3\u001b[39m, \u001b[39m4\u001b[39m, \u001b[39m5\u001b[39m])\n\u001b[1;32m---> 49\u001b[0m w \u001b[39m=\u001b[39m linear_regression(X, y)\n\u001b[0;32m     51\u001b[0m \u001b[39mprint\u001b[39m(\u001b[39m\"\u001b[39m\u001b[39mw = \u001b[39m\u001b[39m\"\u001b[39m, w)\n",
      "Cell \u001b[1;32mIn[12], line 33\u001b[0m, in \u001b[0;36mlinear_regression\u001b[1;34m(X, y, learning_rate, epochs)\u001b[0m\n\u001b[0;32m     29\u001b[0m \u001b[39mfor\u001b[39;00m el \u001b[39min\u001b[39;00m \u001b[39mrange\u001b[39m(rows):\n\u001b[0;32m     31\u001b[0m     x_vect \u001b[39m=\u001b[39m X[el]\u001b[39m.\u001b[39mT\n\u001b[1;32m---> 33\u001b[0m     y_pred[el] \u001b[39m=\u001b[39m np\u001b[39m.\u001b[39;49mdot(x_vect, w)\n\u001b[0;32m     35\u001b[0m     \u001b[39m# Обновление весов\u001b[39;00m\n\u001b[0;32m     36\u001b[0m     dw \u001b[39m=\u001b[39m (\u001b[39m-\u001b[39m\u001b[39m2\u001b[39m \u001b[39m/\u001b[39m n) \u001b[39m*\u001b[39m \u001b[39msum\u001b[39m(x_vect\u001b[39m.\u001b[39mT \u001b[39m*\u001b[39m (y \u001b[39m-\u001b[39m y_pred))\n",
      "File \u001b[1;32m<__array_function__ internals>:200\u001b[0m, in \u001b[0;36mdot\u001b[1;34m(*args, **kwargs)\u001b[0m\n",
      "\u001b[1;31mValueError\u001b[0m: shapes (4,) and (5,) not aligned: 4 (dim 0) != 5 (dim 0)"
     ]
    }
   ],
   "source": [
    "import numpy as np\n",
    "import pandas as pd\n",
    "# линейная регрессия с обучением\n",
    "\n",
    "def linear_regression(X: np.array, y: list, learning_rate=0.01, epochs=1000):\n",
    "    ''' n = len(X)\n",
    "    w0 = 0\n",
    "    w1 = 0\n",
    "\n",
    "    for _ in range(epochs):\n",
    "        y_pred = w0 + w1 * X\n",
    "        dw0 = (-2 / n) * sum(y - y_pred)\n",
    "        dw1 = (-2 / n) * sum(X * (y - y_pred))\n",
    "\n",
    "        w0 -= learning_rate * dw0\n",
    "        w1 -= learning_rate * dw1\n",
    "\n",
    "    return w0, w1\n",
    "    '''\n",
    "    rows, columns = X.shape\n",
    "    n = columns+1\n",
    "    w = np.ones(n)\n",
    "    x_vect = np.ones(n)\n",
    "    y_pred = np.ones(rows)\n",
    "    dw = np.zeros(n)\n",
    "\n",
    "    for _ in range(epochs):\n",
    "        \n",
    "        for el in range(rows):\n",
    "            \n",
    "            x_vect = X[el].T\n",
    "\n",
    "            y_pred[el] = np.dot(x_vect, w)\n",
    "    \n",
    "            # Обновление весов\n",
    "            dw = (-2 / n) * sum(x_vect.T * (y - y_pred))\n",
    "\n",
    "            w -= learning_rate * dw\n",
    "    return w\n",
    "\n",
    "# Пример использования\n",
    "X = np.array([[2, 3, 0, 5], \n",
    "              [4, -3, -1, 1],\n",
    "              [2, 5, 1, 3],\n",
    "              [2, 7, 2, -2]])\n",
    "\n",
    "y = np.array([2, 3, 4, 5])\n",
    "\n",
    "w = linear_regression(X, y)\n",
    "\n",
    "print(\"w = \", w)"
   ]
  }
 ],
 "metadata": {
  "kernelspec": {
   "display_name": "TeachMe",
   "language": "python",
   "name": "python3"
  },
  "language_info": {
   "codemirror_mode": {
    "name": "ipython",
    "version": 3
   },
   "file_extension": ".py",
   "mimetype": "text/x-python",
   "name": "python",
   "nbconvert_exporter": "python",
   "pygments_lexer": "ipython3",
   "version": "3.10.11"
  },
  "orig_nbformat": 4
 },
 "nbformat": 4,
 "nbformat_minor": 2
}
