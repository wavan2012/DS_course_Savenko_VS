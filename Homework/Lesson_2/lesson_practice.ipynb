{
 "cells": [
  {
   "cell_type": "markdown",
   "source": [
    "## Basics"
   ],
   "metadata": {
    "collapsed": false
   }
  },
  {
   "cell_type": "markdown",
   "source": [
    "**Переменные объявляются при помощи следующей конструкции:**\n",
    "\n",
    "! При неявной типизации\n",
    "*наименование_переменной* = *её значение*\n",
    "\n",
    "! При явной типизации\n",
    "*наименование_переменной*: *тип переменной* = *ее значение соответствующего типа*"
   ],
   "metadata": {
    "collapsed": false
   }
  },
  {
   "cell_type": "code",
   "execution_count": 1,
   "outputs": [],
   "source": [
    "# Неявное указание типов\n",
    "integer_var = 1            # Integer\n",
    "float_var = 1.0            # Float\n",
    "string_var = \"Hello\"       # String\n",
    "\n",
    "# Явное указание типов\n",
    "another_float_var: float = 1.0"
   ],
   "metadata": {
    "collapsed": false,
    "ExecuteTime": {
     "start_time": "2023-05-04T20:01:19.689850Z",
     "end_time": "2023-05-04T20:01:19.696450Z"
    }
   }
  },
  {
   "cell_type": "code",
   "execution_count": 2,
   "outputs": [
    {
     "name": "stdout",
     "output_type": "stream",
     "text": [
      "Вывод из метода принт: 10 + 5 = 15\n"
     ]
    },
    {
     "data": {
      "text/plain": "'Вывод в конце ячейки: 10 + 5 = 15'"
     },
     "execution_count": 2,
     "metadata": {},
     "output_type": "execute_result"
    }
   ],
   "source": [
    "# Объявим переменные\n",
    "first_var = 10\n",
    "second_var = 5\n",
    "\n",
    "# Сложение\n",
    "third_var = first_var + second_var\n",
    "\n",
    "# Выводим на экран\n",
    "## Первый способ (при помощи метода print)\n",
    "print(f\"Вывод из метода принт: {first_var} + {second_var} = {third_var}\")\n",
    "\n",
    "## Второй способ (при помощи прописывания в конце ячейки) ! не работает в .py скриптах\n",
    "f\"Вывод в конце ячейки: {first_var} + {second_var} = {third_var}\""
   ],
   "metadata": {
    "collapsed": false,
    "ExecuteTime": {
     "start_time": "2023-05-04T20:01:26.504943Z",
     "end_time": "2023-05-04T20:01:26.514253Z"
    }
   }
  },
  {
   "cell_type": "code",
   "execution_count": 3,
   "outputs": [
    {
     "data": {
      "text/plain": "15"
     },
     "execution_count": 3,
     "metadata": {},
     "output_type": "execute_result"
    }
   ],
   "source": [
    "# Переменные сохраняют значения от ячейки к ячейке\n",
    "third_var"
   ],
   "metadata": {
    "collapsed": false,
    "ExecuteTime": {
     "start_time": "2023-05-04T20:01:33.788319Z",
     "end_time": "2023-05-04T20:01:33.802328Z"
    }
   }
  },
  {
   "cell_type": "code",
   "execution_count": 28,
   "outputs": [
    {
     "name": "stdout",
     "output_type": "stream",
     "text": [
      "10 - 5 = 5\n",
      "10 * 5 = 50\n",
      "10 / 5 = 2.0\n",
      "10 // 7 = 1\n",
      "10 % 7 = 3\n",
      "10 ** 2 = 100\n"
     ]
    }
   ],
   "source": [
    "# Другие операции\n",
    "# Вычитание\n",
    "third_var = first_var - second_var\n",
    "print(f\"{first_var} - {second_var} = {third_var}\")\n",
    "\n",
    "# Умножение\n",
    "third_var = first_var * second_var\n",
    "print(f\"{first_var} * {second_var} = {third_var}\")\n",
    "\n",
    "# Деление\n",
    "third_var = first_var / second_var\n",
    "print(f\"{first_var} / {second_var} = {third_var}\")\n",
    "\n",
    "# Целочисленное деление (деление без остатка)\n",
    "third_var = first_var // 7\n",
    "print(f\"{first_var} // 7 = {third_var}\")\n",
    "\n",
    "# Деление по модулю (остаток от деления)\n",
    "third_var = first_var % 7\n",
    "print(f\"{first_var} % 7 = {third_var}\")\n",
    "\n",
    "# Возведение в степень\n",
    "third_var = first_var ** 2\n",
    "print(f\"{first_var} ** 2 = {third_var}\")"
   ],
   "metadata": {
    "collapsed": false
   }
  },
  {
   "cell_type": "code",
   "execution_count": 29,
   "outputs": [
    {
     "name": "stdout",
     "output_type": "stream",
     "text": [
      "У third_var был тип: <class 'int'> и значение: 100\n",
      "У third_var теперь тип: <class 'str'> и значение: New String Value\n"
     ]
    }
   ],
   "source": [
    "# Переопределение\n",
    "print(f\"У third_var был тип: {type(third_var)} и значение: {third_var}\")\n",
    "\n",
    "third_var = \"New String Value\"\n",
    "\n",
    "print(f\"У third_var теперь тип: {type(third_var)} и значение: {third_var}\")"
   ],
   "metadata": {
    "collapsed": false
   }
  },
  {
   "cell_type": "code",
   "execution_count": 30,
   "outputs": [
    {
     "ename": "TypeError",
     "evalue": "unsupported operand type(s) for +: 'int' and 'str'",
     "output_type": "error",
     "traceback": [
      "\u001B[1;31m---------------------------------------------------------------------------\u001B[0m",
      "\u001B[1;31mTypeError\u001B[0m                                 Traceback (most recent call last)",
      "Cell \u001B[1;32mIn [30], line 2\u001B[0m\n\u001B[0;32m      1\u001B[0m \u001B[38;5;66;03m# Ошибка сложения типов\u001B[39;00m\n\u001B[1;32m----> 2\u001B[0m \u001B[43mfirst_var\u001B[49m\u001B[43m \u001B[49m\u001B[38;5;241;43m+\u001B[39;49m\u001B[43m \u001B[49m\u001B[43mthird_var\u001B[49m\n",
      "\u001B[1;31mTypeError\u001B[0m: unsupported operand type(s) for +: 'int' and 'str'"
     ]
    }
   ],
   "source": [
    "# Ошибка сложения типов\n",
    "first_var + third_var"
   ],
   "metadata": {
    "collapsed": false
   }
  },
  {
   "cell_type": "code",
   "execution_count": 31,
   "outputs": [
    {
     "name": "stdout",
     "output_type": "stream",
     "text": [
      "first_var типа: <class 'int'> и значения:10\n"
     ]
    },
    {
     "data": {
      "text/plain": "11.0"
     },
     "execution_count": 31,
     "metadata": {},
     "output_type": "execute_result"
    }
   ],
   "source": [
    "# Числовые типы можно складывать друг с другом\n",
    "print(f\"first_var типа: {type(first_var)} и значения:{first_var}\")\n",
    "\n",
    "first_var + float_var"
   ],
   "metadata": {
    "collapsed": false
   }
  },
  {
   "cell_type": "code",
   "execution_count": 35,
   "outputs": [
    {
     "name": "stdout",
     "output_type": "stream",
     "text": [
      "second_var = 5\n"
     ]
    },
    {
     "data": {
      "text/plain": "15"
     },
     "execution_count": 35,
     "metadata": {},
     "output_type": "execute_result"
    }
   ],
   "source": [
    "# Математические операции совместно с присваиванием\n",
    "print(f\"second_var = {second_var}\")\n",
    "second_var = second_var + first_var\n",
    "second_var += first_var\n",
    "second_var"
   ],
   "metadata": {
    "collapsed": false
   }
  },
  {
   "cell_type": "code",
   "execution_count": 1,
   "outputs": [],
   "source": [
    "# Другие типы\n",
    "bool_var = False                                # Логический тип (True или False)\n",
    "\n",
    "# Списки\n",
    "variables_list_v1 = [1, 2, 3]                   # Список, состоящий из переменных типа int\n",
    "variables_list_v2 = [\"a\", \"b\", \"c\"]             # Список, состоящий из переменных типы str\n",
    "variables_list_v3 = [1, \"a\", 2.0]               # Список, состоящий из переменных разных типов\n",
    "\n",
    "# Словари\n",
    "variables_dict = {\"First Key\": 4, \"Second Key\": 2.0}\n",
    "\n",
    "# Тюплы\n",
    "variables_tuple_v1: tuple = (1, 2, 3)           # Тюпл, состоящий из переменных типа int\n",
    "variables_tuple_v2: tuple = (\"a\", \"b\", \"c\")     # Тюпл, состоящий из переменных типы str\n",
    "variables_tuple_v3: tuple = (1, \"a\", 2.0)       # Тюпл, состоящий из переменных разных типов\n",
    "\n",
    "# Сеты\n",
    "variables_set_v1: set = {1, 2, 3}               # Сет, состоящий из переменных типа int\n",
    "variables_set_v2: set = {\"a\", \"b\", \"c\"}         # Сет, состоящий из переменных типы str\n",
    "variables_set_v3: set = {1, \"a\", 2.0}           # Сет, состоящий из переменных разных типов"
   ],
   "metadata": {
    "collapsed": false
   }
  },
  {
   "cell_type": "code",
   "execution_count": null,
   "outputs": [],
   "source": [],
   "metadata": {
    "collapsed": false
   }
  }
 ],
 "metadata": {
  "kernelspec": {
   "display_name": "Python 3",
   "language": "python",
   "name": "python3"
  },
  "language_info": {
   "codemirror_mode": {
    "name": "ipython",
    "version": 2
   },
   "file_extension": ".py",
   "mimetype": "text/x-python",
   "name": "python",
   "nbconvert_exporter": "python",
   "pygments_lexer": "ipython2",
   "version": "2.7.6"
  }
 },
 "nbformat": 4,
 "nbformat_minor": 0
}
