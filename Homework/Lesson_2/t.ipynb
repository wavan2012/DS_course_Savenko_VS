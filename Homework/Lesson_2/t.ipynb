{
 "cells": [
  {
   "cell_type": "code",
   "execution_count": 16,
   "outputs": [],
   "source": [
    "a = 5\n",
    "b = 2\n",
    "c = 3"
   ],
   "metadata": {
    "collapsed": false,
    "ExecuteTime": {
     "start_time": "2023-05-06T17:00:56.442047Z",
     "end_time": "2023-05-06T17:00:57.122685Z"
    }
   }
  },
  {
   "cell_type": "code",
   "execution_count": 17,
   "outputs": [
    {
     "name": "stdout",
     "output_type": "stream",
     "text": [
      "5 + 2 * 3 = 11\n",
      "(5 + 2) * 3 = 21\n",
      "(5 + 2 + 3) / 2 = 5.0\n",
      "5 / 2 + 2 / 2 + 3 / 2 = 5.0\n",
      "5 * 2 ** 3 = 40\n",
      "5 * 2 % 3 = 1\n"
     ]
    }
   ],
   "source": [
    "d = a + b * c\n",
    "print(f\"{a} + {b} * {c} = {d}\")\n",
    "\n",
    "d = (a + b) * c\n",
    "print(f\"({a} + {b}) * {c} = {d}\")\n",
    "\n",
    "d = (a + b + c) / 2\n",
    "print(f\"({a} + {b} + {c}) / 2 = {d}\")\n",
    "\n",
    "d = a / 2 + b / 2 + c / 2\n",
    "print(f\"{a} / 2 + {b} / 2 + {c} / 2 = {d}\")\n",
    "\n",
    "d = a * b ** c\n",
    "print(f\"{a} * {b} ** {c} = {d}\")\n",
    "\n",
    "d = a * b % c\n",
    "print(f\"{a} * {b} % {c} = {d}\")"
   ],
   "metadata": {
    "collapsed": false,
    "ExecuteTime": {
     "start_time": "2023-05-06T17:00:56.465145Z",
     "end_time": "2023-05-06T17:00:57.142630Z"
    }
   }
  },
  {
   "cell_type": "markdown",
   "source": [
    "### Порядок выполнения операторов в выражениях\n",
    "\n",
    "1. ()\n",
    "2. **\n",
    "3. *, /, //, %\n",
    "4. +, -"
   ],
   "metadata": {
    "collapsed": false
   }
  },
  {
   "cell_type": "markdown",
   "source": [
    "## Логические операторы"
   ],
   "metadata": {
    "collapsed": false
   }
  },
  {
   "cell_type": "code",
   "execution_count": 18,
   "outputs": [],
   "source": [
    "a = 10\n",
    "b = 5\n",
    "\n",
    "c = True # 1\n",
    "d = False # 0"
   ],
   "metadata": {
    "collapsed": false,
    "ExecuteTime": {
     "start_time": "2023-05-06T17:00:56.494818Z",
     "end_time": "2023-05-06T17:00:57.163656Z"
    }
   }
  },
  {
   "cell_type": "markdown",
   "source": [
    "AND - логическое \"И\"\n",
    "\n",
    "OR - логическое \"ИЛИ\"\n",
    "\n",
    "NOT - логическое отрицание"
   ],
   "metadata": {
    "collapsed": false
   }
  },
  {
   "cell_type": "code",
   "execution_count": 19,
   "outputs": [
    {
     "name": "stdout",
     "output_type": "stream",
     "text": [
      "True AND False = False\n",
      "True OR False == True\n",
      "\n",
      "True AND True = True\n",
      "True OR True = True\n",
      "\n",
      "False AND False = False\n",
      "False OR False = False\n",
      "\n",
      "NOT False = True\n",
      "True AND NOT False = True\n"
     ]
    }
   ],
   "source": [
    "print(f\"{c} AND {d} = {c and d}\")\n",
    "print(f\"{c} OR {d} == {c or d}\")\n",
    "\n",
    "print(f\"\\n{c} AND {c} = {c and c}\")\n",
    "print(f\"{c} OR {c} = {c or c}\")\n",
    "\n",
    "print(f\"\\n{d} AND {d} = {d and d}\")\n",
    "print(f\"{d} OR {d} = {d or d}\")\n",
    "\n",
    "print(f\"\\nNOT {d} = {not d}\")\n",
    "print(f\"{c} AND NOT {d} = {c and not d}\")"
   ],
   "metadata": {
    "collapsed": false,
    "ExecuteTime": {
     "start_time": "2023-05-06T17:00:56.526291Z",
     "end_time": "2023-05-06T17:00:57.164656Z"
    }
   }
  },
  {
   "cell_type": "code",
   "execution_count": 20,
   "outputs": [
    {
     "name": "stdout",
     "output_type": "stream",
     "text": [
      "10 > 5 = True\n",
      "10 < 5 = False\n",
      "10 == 5 * 2 = True\n",
      "10 <= 5 * 2 = True\n",
      "10 != 5 = True\n"
     ]
    }
   ],
   "source": [
    "print(f\"{a} > {b} = {a > b}\")\n",
    "print(f\"{a} < {b} = {a < b}\")\n",
    "print(f\"{a} == {b} * 2 = {a == b * 2}\")\n",
    "print(f\"{a} <= {b} * 2 = {a <= b*2}\")\n",
    "print(f\"{a} != {b} = {a != b}\")"
   ],
   "metadata": {
    "collapsed": false,
    "ExecuteTime": {
     "start_time": "2023-05-06T17:00:56.536295Z",
     "end_time": "2023-05-06T17:00:57.165655Z"
    }
   }
  },
  {
   "cell_type": "code",
   "execution_count": 21,
   "outputs": [
    {
     "name": "stdout",
     "output_type": "stream",
     "text": [
      "2 * (10 != 5) = 2\n",
      "2 * (10 == 5) = 0\n",
      "\n",
      "int(10 != 5) = 1\n",
      "int(10 == 5) = 0\n"
     ]
    }
   ],
   "source": [
    "print(f\"2 * ({a} != {b}) = {2 * (a != b)}\")\n",
    "print(f\"2 * ({a} == {b}) = {2 * (a == b)}\")\n",
    "\n",
    "print(f\"\\nint({a} != {b}) = {int(a != b)}\")\n",
    "print(f\"int({a} == {b}) = {int(a == b)}\")"
   ],
   "metadata": {
    "collapsed": false,
    "ExecuteTime": {
     "start_time": "2023-05-06T17:00:56.575623Z",
     "end_time": "2023-05-06T17:00:57.234885Z"
    }
   }
  },
  {
   "cell_type": "markdown",
   "source": [
    "## Коллекции"
   ],
   "metadata": {
    "collapsed": false
   }
  },
  {
   "cell_type": "markdown",
   "source": [
    "![COLLECTIONS](collections.png)"
   ],
   "metadata": {
    "collapsed": false
   }
  },
  {
   "cell_type": "markdown",
   "source": [
    "### List"
   ],
   "metadata": {
    "collapsed": false
   }
  },
  {
   "cell_type": "code",
   "execution_count": 22,
   "outputs": [
    {
     "name": "stdout",
     "output_type": "stream",
     "text": [
      "<class 'list'> [1, 2, 3, 4]\n"
     ]
    }
   ],
   "source": [
    "a = [1, 2, 3, 4]\n",
    "print(type(a), a)"
   ],
   "metadata": {
    "collapsed": false,
    "ExecuteTime": {
     "start_time": "2023-05-06T17:00:56.605544Z",
     "end_time": "2023-05-06T17:00:57.293763Z"
    }
   }
  },
  {
   "cell_type": "code",
   "execution_count": 23,
   "outputs": [
    {
     "name": "stdout",
     "output_type": "stream",
     "text": [
      "<class 'list'> [1, 2.0, '3', False]\n"
     ]
    }
   ],
   "source": [
    "a = [1, 2.0, \"3\", False]\n",
    "print(type(a), a)"
   ],
   "metadata": {
    "collapsed": false,
    "ExecuteTime": {
     "start_time": "2023-05-06T17:00:56.630264Z",
     "end_time": "2023-05-06T17:00:57.384967Z"
    }
   }
  },
  {
   "cell_type": "code",
   "execution_count": 24,
   "outputs": [
    {
     "name": "stdout",
     "output_type": "stream",
     "text": [
      "[1, 20, '3', False]\n"
     ]
    }
   ],
   "source": [
    "# Изменяемость\n",
    "a[1] = 20\n",
    "print(a)"
   ],
   "metadata": {
    "collapsed": false,
    "ExecuteTime": {
     "start_time": "2023-05-06T17:00:56.652207Z",
     "end_time": "2023-05-06T17:00:57.411982Z"
    }
   }
  },
  {
   "cell_type": "code",
   "execution_count": 25,
   "outputs": [
    {
     "name": "stdout",
     "output_type": "stream",
     "text": [
      "Get element by index <2> from [1, 20, '3', False] = 3\n"
     ]
    }
   ],
   "source": [
    "# Индексированность\n",
    "index = 2\n",
    "print(f\"Get element by index <{index}> from {a} = {a[index]}\")"
   ],
   "metadata": {
    "collapsed": false,
    "ExecuteTime": {
     "start_time": "2023-05-06T17:00:56.677138Z",
     "end_time": "2023-05-06T17:00:57.414972Z"
    }
   }
  },
  {
   "cell_type": "code",
   "execution_count": 26,
   "outputs": [
    {
     "data": {
      "text/plain": "[1, 1, 2, 2, 2]"
     },
     "execution_count": 26,
     "metadata": {},
     "output_type": "execute_result"
    }
   ],
   "source": [
    "# Уникальность\n",
    "a = [1, 1, 2, 2, 2]\n",
    "a"
   ],
   "metadata": {
    "collapsed": false,
    "ExecuteTime": {
     "start_time": "2023-05-06T17:00:56.708071Z",
     "end_time": "2023-05-06T17:00:57.438885Z"
    }
   }
  },
  {
   "cell_type": "code",
   "execution_count": 27,
   "outputs": [
    {
     "name": "stdout",
     "output_type": "stream",
     "text": [
      "List initialization: []\n",
      "Append an element to the list: [2]\n",
      "Clear the list: []\n",
      "Get element <3> index: 2\n",
      "Remove <3> element from the list: [1, 2, 4]\n",
      "Get number of element <2> from the list [1, 2, 2, 2, 3]: 3\n"
     ]
    }
   ],
   "source": [
    "# Базовые методы списка\n",
    "a = list()\n",
    "print(f\"List initialization: {a}\")\n",
    "\n",
    "a.append(2)\n",
    "print(f\"Append an element to the list: {a}\")\n",
    "\n",
    "a.clear()\n",
    "print(f\"Clear the list: {a}\")\n",
    "\n",
    "a = [1, 2, 3, 4]\n",
    "print(f\"Get element <{3}> index: {a.index(3)}\")\n",
    "\n",
    "a.remove(3)\n",
    "print(f\"Remove <3> element from the list: {a}\")\n",
    "\n",
    "print(f\"Get number of element <2> from the list [1, 2, 2, 2, 3]: {[1, 2, 2, 2, 3].count(2)}\")"
   ],
   "metadata": {
    "collapsed": false,
    "ExecuteTime": {
     "start_time": "2023-05-06T17:00:56.728002Z",
     "end_time": "2023-05-06T17:00:57.494179Z"
    }
   }
  },
  {
   "cell_type": "markdown",
   "source": [
    "### Tuple"
   ],
   "metadata": {
    "collapsed": false
   }
  },
  {
   "cell_type": "code",
   "execution_count": 28,
   "outputs": [
    {
     "name": "stdout",
     "output_type": "stream",
     "text": [
      "<class 'tuple'> (1, 2, 3)\n"
     ]
    }
   ],
   "source": [
    "a = (1, 2, 3)\n",
    "print(type(a), a)"
   ],
   "metadata": {
    "collapsed": false,
    "ExecuteTime": {
     "start_time": "2023-05-06T17:00:56.762442Z",
     "end_time": "2023-05-06T17:00:57.497135Z"
    }
   }
  },
  {
   "cell_type": "code",
   "execution_count": 29,
   "outputs": [
    {
     "ename": "TypeError",
     "evalue": "'tuple' object does not support item assignment",
     "output_type": "error",
     "traceback": [
      "\u001B[1;31m---------------------------------------------------------------------------\u001B[0m",
      "\u001B[1;31mTypeError\u001B[0m                                 Traceback (most recent call last)",
      "Cell \u001B[1;32mIn[29], line 1\u001B[0m\n\u001B[1;32m----> 1\u001B[0m a[\u001B[38;5;241m2\u001B[39m] \u001B[38;5;241m=\u001B[39m \u001B[38;5;241m4\u001B[39m\n",
      "\u001B[1;31mTypeError\u001B[0m: 'tuple' object does not support item assignment"
     ]
    }
   ],
   "source": [
    "a[2] = 4"
   ],
   "metadata": {
    "collapsed": false
   }
  },
  {
   "cell_type": "code",
   "execution_count": 30,
   "outputs": [
    {
     "name": "stdout",
     "output_type": "stream",
     "text": [
      "Get element <3> index: 2\n"
     ]
    }
   ],
   "source": [
    "print(f\"Get element <{3}> index: {a.index(3)}\")"
   ],
   "metadata": {
    "collapsed": false,
    "ExecuteTime": {
     "start_time": "2023-05-06T17:01:37.194850Z",
     "end_time": "2023-05-06T17:01:37.817189Z"
    }
   }
  },
  {
   "cell_type": "markdown",
   "source": [
    "### String"
   ],
   "metadata": {
    "collapsed": false
   }
  },
  {
   "cell_type": "code",
   "execution_count": 31,
   "outputs": [
    {
     "ename": "TypeError",
     "evalue": "'str' object does not support item assignment",
     "output_type": "error",
     "traceback": [
      "\u001B[1;31m---------------------------------------------------------------------------\u001B[0m",
      "\u001B[1;31mTypeError\u001B[0m                                 Traceback (most recent call last)",
      "Cell \u001B[1;32mIn[31], line 3\u001B[0m\n\u001B[0;32m      1\u001B[0m a \u001B[38;5;241m=\u001B[39m \u001B[38;5;124m\"\u001B[39m\u001B[38;5;124mHello, World!\u001B[39m\u001B[38;5;124m\"\u001B[39m\n\u001B[1;32m----> 3\u001B[0m a[\u001B[38;5;241m1\u001B[39m] \u001B[38;5;241m=\u001B[39m \u001B[38;5;124m\"\u001B[39m\u001B[38;5;124mi\u001B[39m\u001B[38;5;124m\"\u001B[39m\n",
      "\u001B[1;31mTypeError\u001B[0m: 'str' object does not support item assignment"
     ]
    }
   ],
   "source": [
    "a = \"Hello, World!\"\n",
    "\n",
    "a[1] = \"i\""
   ],
   "metadata": {
    "collapsed": false
   }
  },
  {
   "cell_type": "code",
   "execution_count": 32,
   "outputs": [
    {
     "name": "stdout",
     "output_type": "stream",
     "text": [
      "Get 1st element from the string:  H\n"
     ]
    }
   ],
   "source": [
    "print(f\"Get 1st element from the string: \", a[0])"
   ],
   "metadata": {
    "collapsed": false,
    "ExecuteTime": {
     "start_time": "2023-05-06T17:01:46.615812Z",
     "end_time": "2023-05-06T17:01:46.651852Z"
    }
   }
  },
  {
   "cell_type": "code",
   "execution_count": 33,
   "outputs": [
    {
     "data": {
      "text/plain": "'Hillo, World!'"
     },
     "execution_count": 33,
     "metadata": {},
     "output_type": "execute_result"
    }
   ],
   "source": [
    "a.replace(\"e\", \"i\")"
   ],
   "metadata": {
    "collapsed": false,
    "ExecuteTime": {
     "start_time": "2023-05-06T17:01:48.924459Z",
     "end_time": "2023-05-06T17:01:49.003376Z"
    }
   }
  },
  {
   "cell_type": "code",
   "execution_count": 34,
   "outputs": [
    {
     "data": {
      "text/plain": "'Heppo, Worpd!'"
     },
     "execution_count": 34,
     "metadata": {},
     "output_type": "execute_result"
    }
   ],
   "source": [
    "a.replace(\"l\", \"p\")"
   ],
   "metadata": {
    "collapsed": false,
    "ExecuteTime": {
     "start_time": "2023-05-06T17:01:49.686813Z",
     "end_time": "2023-05-06T17:01:49.736607Z"
    }
   }
  },
  {
   "cell_type": "code",
   "execution_count": 35,
   "outputs": [
    {
     "data": {
      "text/plain": "3"
     },
     "execution_count": 35,
     "metadata": {},
     "output_type": "execute_result"
    }
   ],
   "source": [
    "a.count(\"l\")"
   ],
   "metadata": {
    "collapsed": false,
    "ExecuteTime": {
     "start_time": "2023-05-06T17:01:50.749600Z",
     "end_time": "2023-05-06T17:01:50.847186Z"
    }
   }
  },
  {
   "cell_type": "code",
   "execution_count": 36,
   "outputs": [
    {
     "data": {
      "text/plain": "'HELLO, WORLD!'"
     },
     "execution_count": 36,
     "metadata": {},
     "output_type": "execute_result"
    }
   ],
   "source": [
    "a.upper()"
   ],
   "metadata": {
    "collapsed": false,
    "ExecuteTime": {
     "start_time": "2023-05-06T17:01:51.641699Z",
     "end_time": "2023-05-06T17:01:51.733494Z"
    }
   }
  },
  {
   "cell_type": "code",
   "execution_count": 37,
   "outputs": [
    {
     "data": {
      "text/plain": "'hello, world!'"
     },
     "execution_count": 37,
     "metadata": {},
     "output_type": "execute_result"
    }
   ],
   "source": [
    "a.lower()"
   ],
   "metadata": {
    "collapsed": false,
    "ExecuteTime": {
     "start_time": "2023-05-06T17:01:52.182920Z",
     "end_time": "2023-05-06T17:01:52.262736Z"
    }
   }
  },
  {
   "cell_type": "code",
   "execution_count": 38,
   "outputs": [
    {
     "data": {
      "text/plain": "True"
     },
     "execution_count": 38,
     "metadata": {},
     "output_type": "execute_result"
    }
   ],
   "source": [
    "a.startswith(\"H\")"
   ],
   "metadata": {
    "collapsed": false,
    "ExecuteTime": {
     "start_time": "2023-05-06T17:01:52.739308Z",
     "end_time": "2023-05-06T17:01:52.838332Z"
    }
   }
  },
  {
   "cell_type": "code",
   "execution_count": 39,
   "outputs": [
    {
     "data": {
      "text/plain": "True"
     },
     "execution_count": 39,
     "metadata": {},
     "output_type": "execute_result"
    }
   ],
   "source": [
    "a.endswith(\"!\")"
   ],
   "metadata": {
    "collapsed": false,
    "ExecuteTime": {
     "start_time": "2023-05-06T17:01:53.304493Z",
     "end_time": "2023-05-06T17:01:53.383461Z"
    }
   }
  },
  {
   "cell_type": "markdown",
   "source": [
    "### Set"
   ],
   "metadata": {
    "collapsed": false
   }
  },
  {
   "cell_type": "code",
   "execution_count": 40,
   "outputs": [
    {
     "name": "stdout",
     "output_type": "stream",
     "text": [
      "<class 'set'> {1, 2, 3}\n"
     ]
    }
   ],
   "source": [
    "a = {1, 2, 3}\n",
    "print(type(a), a)"
   ],
   "metadata": {
    "collapsed": false,
    "ExecuteTime": {
     "start_time": "2023-05-06T17:01:54.336111Z",
     "end_time": "2023-05-06T17:01:54.348592Z"
    }
   }
  },
  {
   "cell_type": "code",
   "execution_count": 41,
   "outputs": [
    {
     "ename": "TypeError",
     "evalue": "'set' object is not subscriptable",
     "output_type": "error",
     "traceback": [
      "\u001B[1;31m---------------------------------------------------------------------------\u001B[0m",
      "\u001B[1;31mTypeError\u001B[0m                                 Traceback (most recent call last)",
      "Cell \u001B[1;32mIn[41], line 1\u001B[0m\n\u001B[1;32m----> 1\u001B[0m \u001B[43ma\u001B[49m\u001B[43m[\u001B[49m\u001B[38;5;241;43m1\u001B[39;49m\u001B[43m]\u001B[49m\n",
      "\u001B[1;31mTypeError\u001B[0m: 'set' object is not subscriptable"
     ]
    }
   ],
   "source": [
    "a[1]"
   ],
   "metadata": {
    "collapsed": false
   }
  },
  {
   "cell_type": "code",
   "execution_count": 42,
   "outputs": [
    {
     "name": "stdout",
     "output_type": "stream",
     "text": [
      "{1, 2, 3}\n"
     ]
    }
   ],
   "source": [
    "a = {1, 2, 2, 3}\n",
    "print(a)"
   ],
   "metadata": {
    "collapsed": false,
    "ExecuteTime": {
     "start_time": "2023-05-06T17:01:55.274532Z",
     "end_time": "2023-05-06T17:01:55.373267Z"
    }
   }
  },
  {
   "cell_type": "code",
   "execution_count": 43,
   "outputs": [
    {
     "data": {
      "text/plain": "{1, 2, 3, 4}"
     },
     "execution_count": 43,
     "metadata": {},
     "output_type": "execute_result"
    }
   ],
   "source": [
    "a.add(4)\n",
    "a"
   ],
   "metadata": {
    "collapsed": false,
    "ExecuteTime": {
     "start_time": "2023-05-06T17:01:55.864594Z",
     "end_time": "2023-05-06T17:01:56.005843Z"
    }
   }
  },
  {
   "cell_type": "code",
   "execution_count": 44,
   "outputs": [
    {
     "name": "stdout",
     "output_type": "stream",
     "text": [
      "{1, 2, 3}\n"
     ]
    }
   ],
   "source": [
    "a.remove(4)\n",
    "print(a)"
   ],
   "metadata": {
    "collapsed": false,
    "ExecuteTime": {
     "start_time": "2023-05-06T17:01:56.433288Z",
     "end_time": "2023-05-06T17:01:56.555348Z"
    }
   }
  },
  {
   "cell_type": "markdown",
   "source": [
    "### Frozenset"
   ],
   "metadata": {
    "collapsed": false
   }
  },
  {
   "cell_type": "code",
   "execution_count": 45,
   "outputs": [
    {
     "name": "stdout",
     "output_type": "stream",
     "text": [
      "<class 'frozenset'> frozenset({1, 2, 3})\n"
     ]
    }
   ],
   "source": [
    "# frozenset\n",
    "a = frozenset({1, 2, 3, 3})\n",
    "print(type(a), a)"
   ],
   "metadata": {
    "collapsed": false,
    "ExecuteTime": {
     "start_time": "2023-05-06T17:01:58.035372Z",
     "end_time": "2023-05-06T17:01:58.160542Z"
    }
   }
  },
  {
   "cell_type": "code",
   "execution_count": 46,
   "outputs": [
    {
     "ename": "AttributeError",
     "evalue": "'frozenset' object has no attribute 'add'",
     "output_type": "error",
     "traceback": [
      "\u001B[1;31m---------------------------------------------------------------------------\u001B[0m",
      "\u001B[1;31mAttributeError\u001B[0m                            Traceback (most recent call last)",
      "Cell \u001B[1;32mIn[46], line 1\u001B[0m\n\u001B[1;32m----> 1\u001B[0m \u001B[43ma\u001B[49m\u001B[38;5;241;43m.\u001B[39;49m\u001B[43madd\u001B[49m(\u001B[38;5;241m4\u001B[39m)\n",
      "\u001B[1;31mAttributeError\u001B[0m: 'frozenset' object has no attribute 'add'"
     ]
    }
   ],
   "source": [
    "a.add(4)"
   ],
   "metadata": {
    "collapsed": false
   }
  },
  {
   "cell_type": "markdown",
   "source": [
    "### Dict"
   ],
   "metadata": {
    "collapsed": false
   }
  },
  {
   "cell_type": "code",
   "execution_count": 47,
   "outputs": [
    {
     "name": "stdout",
     "output_type": "stream",
     "text": [
      "<class 'dict'> {'a': 1, 'b': 2, 'c': 3}\n"
     ]
    }
   ],
   "source": [
    "a = {\"a\": 1, \"b\": 2, \"c\": 3}\n",
    "print(type(a), a)"
   ],
   "metadata": {
    "collapsed": false,
    "ExecuteTime": {
     "start_time": "2023-05-06T17:02:01.116031Z",
     "end_time": "2023-05-06T17:02:01.201833Z"
    }
   }
  },
  {
   "cell_type": "code",
   "execution_count": 48,
   "outputs": [
    {
     "data": {
      "text/plain": "dict_keys(['a', 'b', 'c'])"
     },
     "execution_count": 48,
     "metadata": {},
     "output_type": "execute_result"
    }
   ],
   "source": [
    "a.keys()"
   ],
   "metadata": {
    "collapsed": false,
    "ExecuteTime": {
     "start_time": "2023-05-06T17:02:01.689069Z",
     "end_time": "2023-05-06T17:02:01.740927Z"
    }
   }
  },
  {
   "cell_type": "code",
   "execution_count": 49,
   "outputs": [
    {
     "data": {
      "text/plain": "dict_values([1, 2, 3])"
     },
     "execution_count": 49,
     "metadata": {},
     "output_type": "execute_result"
    }
   ],
   "source": [
    "a.values()"
   ],
   "metadata": {
    "collapsed": false,
    "ExecuteTime": {
     "start_time": "2023-05-06T17:02:02.156009Z",
     "end_time": "2023-05-06T17:02:02.235808Z"
    }
   }
  },
  {
   "cell_type": "code",
   "execution_count": 50,
   "outputs": [
    {
     "data": {
      "text/plain": "2"
     },
     "execution_count": 50,
     "metadata": {},
     "output_type": "execute_result"
    }
   ],
   "source": [
    "a[\"b\"]"
   ],
   "metadata": {
    "collapsed": false,
    "ExecuteTime": {
     "start_time": "2023-05-06T17:02:02.938222Z",
     "end_time": "2023-05-06T17:02:03.046194Z"
    }
   }
  },
  {
   "cell_type": "code",
   "execution_count": 51,
   "outputs": [
    {
     "data": {
      "text/plain": "{'a': 1, 'b': 3, 'c': 3}"
     },
     "execution_count": 51,
     "metadata": {},
     "output_type": "execute_result"
    }
   ],
   "source": [
    "a[\"b\"] = 3\n",
    "a"
   ],
   "metadata": {
    "collapsed": false,
    "ExecuteTime": {
     "start_time": "2023-05-06T17:02:03.487545Z",
     "end_time": "2023-05-06T17:02:03.547379Z"
    }
   }
  },
  {
   "cell_type": "code",
   "execution_count": 52,
   "outputs": [
    {
     "ename": "KeyError",
     "evalue": "'d'",
     "output_type": "error",
     "traceback": [
      "\u001B[1;31m---------------------------------------------------------------------------\u001B[0m",
      "\u001B[1;31mKeyError\u001B[0m                                  Traceback (most recent call last)",
      "Cell \u001B[1;32mIn[52], line 1\u001B[0m\n\u001B[1;32m----> 1\u001B[0m \u001B[43ma\u001B[49m\u001B[43m[\u001B[49m\u001B[38;5;124;43m\"\u001B[39;49m\u001B[38;5;124;43md\u001B[39;49m\u001B[38;5;124;43m\"\u001B[39;49m\u001B[43m]\u001B[49m\n",
      "\u001B[1;31mKeyError\u001B[0m: 'd'"
     ]
    }
   ],
   "source": [
    "a[\"d\"]"
   ],
   "metadata": {
    "collapsed": false
   }
  },
  {
   "cell_type": "code",
   "execution_count": 53,
   "outputs": [
    {
     "data": {
      "text/plain": "True"
     },
     "execution_count": 53,
     "metadata": {},
     "output_type": "execute_result"
    }
   ],
   "source": [
    "a.get(\"d\") is None"
   ],
   "metadata": {
    "collapsed": false,
    "ExecuteTime": {
     "start_time": "2023-05-06T17:02:04.455875Z",
     "end_time": "2023-05-06T17:02:04.509454Z"
    }
   }
  },
  {
   "cell_type": "code",
   "execution_count": 54,
   "outputs": [
    {
     "data": {
      "text/plain": "3"
     },
     "execution_count": 54,
     "metadata": {},
     "output_type": "execute_result"
    }
   ],
   "source": [
    "a.get(\"c\")"
   ],
   "metadata": {
    "collapsed": false,
    "ExecuteTime": {
     "start_time": "2023-05-06T17:02:04.986309Z",
     "end_time": "2023-05-06T17:02:05.081092Z"
    }
   }
  },
  {
   "cell_type": "code",
   "execution_count": 55,
   "outputs": [
    {
     "data": {
      "text/plain": "-1"
     },
     "execution_count": 55,
     "metadata": {},
     "output_type": "execute_result"
    }
   ],
   "source": [
    "a.get(\"d\", -1)"
   ],
   "metadata": {
    "collapsed": false,
    "ExecuteTime": {
     "start_time": "2023-05-06T17:02:05.459285Z",
     "end_time": "2023-05-06T17:02:05.501211Z"
    }
   }
  },
  {
   "cell_type": "code",
   "execution_count": 56,
   "outputs": [],
   "source": [
    "test_string = \"Hello, World 'dog'\""
   ],
   "metadata": {
    "collapsed": false,
    "ExecuteTime": {
     "start_time": "2023-05-06T17:02:05.996846Z",
     "end_time": "2023-05-06T17:02:06.048708Z"
    }
   }
  },
  {
   "cell_type": "code",
   "execution_count": 57,
   "outputs": [
    {
     "name": "stdout",
     "output_type": "stream",
     "text": [
      "Hello, World 'dog'\n"
     ]
    }
   ],
   "source": [
    "print(test_string)"
   ],
   "metadata": {
    "collapsed": false,
    "ExecuteTime": {
     "start_time": "2023-05-06T17:02:06.757731Z",
     "end_time": "2023-05-06T17:02:06.833122Z"
    }
   }
  },
  {
   "cell_type": "code",
   "execution_count": 57,
   "outputs": [],
   "source": [],
   "metadata": {
    "collapsed": false,
    "ExecuteTime": {
     "start_time": "2023-05-06T17:02:08.289342Z",
     "end_time": "2023-05-06T17:02:08.460991Z"
    }
   }
  },
  {
   "cell_type": "code",
   "execution_count": null,
   "outputs": [],
   "source": [],
   "metadata": {
    "collapsed": false
   }
  }
 ],
 "metadata": {
  "kernelspec": {
   "display_name": "Python 3",
   "language": "python",
   "name": "python3"
  },
  "language_info": {
   "codemirror_mode": {
    "name": "ipython",
    "version": 2
   },
   "file_extension": ".py",
   "mimetype": "text/x-python",
   "name": "python",
   "nbconvert_exporter": "python",
   "pygments_lexer": "ipython2",
   "version": "2.7.6"
  }
 },
 "nbformat": 4,
 "nbformat_minor": 0
}
